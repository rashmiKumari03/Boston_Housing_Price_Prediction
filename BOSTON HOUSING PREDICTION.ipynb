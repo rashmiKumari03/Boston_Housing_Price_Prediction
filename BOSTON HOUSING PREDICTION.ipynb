{
 "cells": [
  {
   "cell_type": "markdown",
   "id": "1f561ec6",
   "metadata": {},
   "source": [
    "# HOUSING PREDICITON------PRICE PREDICTOR"
   ]
  },
  {
   "cell_type": "code",
   "execution_count": 1,
   "id": "ca4ae1a4",
   "metadata": {},
   "outputs": [],
   "source": [
    "#import the libraries"
   ]
  },
  {
   "cell_type": "code",
   "execution_count": 2,
   "id": "ce53d9cb",
   "metadata": {},
   "outputs": [],
   "source": [
    "import numpy as np\n",
    "import pandas as pd\n",
    "import matplotlib.pyplot as plt\n",
    "import seaborn as sns\n",
    "import warnings\n",
    "from warnings import filterwarnings"
   ]
  },
  {
   "cell_type": "code",
   "execution_count": 3,
   "id": "e4416354",
   "metadata": {},
   "outputs": [],
   "source": [
    "housing=pd.read_csv(\"housing.csv\")"
   ]
  },
  {
   "cell_type": "code",
   "execution_count": 4,
   "id": "796bc5f0",
   "metadata": {},
   "outputs": [
    {
     "data": {
      "text/html": [
       "<div>\n",
       "<style scoped>\n",
       "    .dataframe tbody tr th:only-of-type {\n",
       "        vertical-align: middle;\n",
       "    }\n",
       "\n",
       "    .dataframe tbody tr th {\n",
       "        vertical-align: top;\n",
       "    }\n",
       "\n",
       "    .dataframe thead th {\n",
       "        text-align: right;\n",
       "    }\n",
       "</style>\n",
       "<table border=\"1\" class=\"dataframe\">\n",
       "  <thead>\n",
       "    <tr style=\"text-align: right;\">\n",
       "      <th></th>\n",
       "      <th>CRIM</th>\n",
       "      <th>ZN</th>\n",
       "      <th>INDUS</th>\n",
       "      <th>CHAS</th>\n",
       "      <th>NOX</th>\n",
       "      <th>RM</th>\n",
       "      <th>AGE</th>\n",
       "      <th>DIS</th>\n",
       "      <th>RAD</th>\n",
       "      <th>TAX</th>\n",
       "      <th>PITRATIO</th>\n",
       "      <th>B</th>\n",
       "      <th>LSTAT</th>\n",
       "      <th>MEDV</th>\n",
       "    </tr>\n",
       "  </thead>\n",
       "  <tbody>\n",
       "    <tr>\n",
       "      <th>0</th>\n",
       "      <td>0.00632</td>\n",
       "      <td>18.0</td>\n",
       "      <td>2.31</td>\n",
       "      <td>0</td>\n",
       "      <td>0.538</td>\n",
       "      <td>6.575</td>\n",
       "      <td>65.2</td>\n",
       "      <td>4.0900</td>\n",
       "      <td>1</td>\n",
       "      <td>296</td>\n",
       "      <td>15.3</td>\n",
       "      <td>396.90</td>\n",
       "      <td>4.98</td>\n",
       "      <td>24.0</td>\n",
       "    </tr>\n",
       "    <tr>\n",
       "      <th>1</th>\n",
       "      <td>0.02731</td>\n",
       "      <td>0.0</td>\n",
       "      <td>7.07</td>\n",
       "      <td>0</td>\n",
       "      <td>0.469</td>\n",
       "      <td>6.421</td>\n",
       "      <td>78.9</td>\n",
       "      <td>4.9671</td>\n",
       "      <td>2</td>\n",
       "      <td>242</td>\n",
       "      <td>17.8</td>\n",
       "      <td>396.90</td>\n",
       "      <td>9.14</td>\n",
       "      <td>21.6</td>\n",
       "    </tr>\n",
       "    <tr>\n",
       "      <th>2</th>\n",
       "      <td>0.02729</td>\n",
       "      <td>0.0</td>\n",
       "      <td>7.07</td>\n",
       "      <td>0</td>\n",
       "      <td>0.469</td>\n",
       "      <td>7.185</td>\n",
       "      <td>61.1</td>\n",
       "      <td>4.9671</td>\n",
       "      <td>2</td>\n",
       "      <td>242</td>\n",
       "      <td>17.8</td>\n",
       "      <td>392.83</td>\n",
       "      <td>4.03</td>\n",
       "      <td>34.7</td>\n",
       "    </tr>\n",
       "    <tr>\n",
       "      <th>3</th>\n",
       "      <td>0.03237</td>\n",
       "      <td>0.0</td>\n",
       "      <td>2.18</td>\n",
       "      <td>0</td>\n",
       "      <td>0.458</td>\n",
       "      <td>6.998</td>\n",
       "      <td>45.8</td>\n",
       "      <td>6.0622</td>\n",
       "      <td>3</td>\n",
       "      <td>222</td>\n",
       "      <td>18.7</td>\n",
       "      <td>394.63</td>\n",
       "      <td>2.94</td>\n",
       "      <td>33.4</td>\n",
       "    </tr>\n",
       "    <tr>\n",
       "      <th>4</th>\n",
       "      <td>0.06905</td>\n",
       "      <td>0.0</td>\n",
       "      <td>2.18</td>\n",
       "      <td>0</td>\n",
       "      <td>0.458</td>\n",
       "      <td>7.147</td>\n",
       "      <td>54.2</td>\n",
       "      <td>6.0622</td>\n",
       "      <td>3</td>\n",
       "      <td>222</td>\n",
       "      <td>18.7</td>\n",
       "      <td>396.90</td>\n",
       "      <td>5.33</td>\n",
       "      <td>36.2</td>\n",
       "    </tr>\n",
       "  </tbody>\n",
       "</table>\n",
       "</div>"
      ],
      "text/plain": [
       "      CRIM    ZN  INDUS  CHAS    NOX     RM   AGE     DIS  RAD  TAX  PITRATIO  \\\n",
       "0  0.00632  18.0   2.31     0  0.538  6.575  65.2  4.0900    1  296      15.3   \n",
       "1  0.02731   0.0   7.07     0  0.469  6.421  78.9  4.9671    2  242      17.8   \n",
       "2  0.02729   0.0   7.07     0  0.469  7.185  61.1  4.9671    2  242      17.8   \n",
       "3  0.03237   0.0   2.18     0  0.458  6.998  45.8  6.0622    3  222      18.7   \n",
       "4  0.06905   0.0   2.18     0  0.458  7.147  54.2  6.0622    3  222      18.7   \n",
       "\n",
       "        B  LSTAT  MEDV  \n",
       "0  396.90   4.98  24.0  \n",
       "1  396.90   9.14  21.6  \n",
       "2  392.83   4.03  34.7  \n",
       "3  394.63   2.94  33.4  \n",
       "4  396.90   5.33  36.2  "
      ]
     },
     "execution_count": 4,
     "metadata": {},
     "output_type": "execute_result"
    }
   ],
   "source": [
    "housing.head()"
   ]
  },
  {
   "cell_type": "code",
   "execution_count": 5,
   "id": "61b04820",
   "metadata": {},
   "outputs": [
    {
     "name": "stdout",
     "output_type": "stream",
     "text": [
      "<class 'pandas.core.frame.DataFrame'>\n",
      "RangeIndex: 506 entries, 0 to 505\n",
      "Data columns (total 14 columns):\n",
      " #   Column    Non-Null Count  Dtype  \n",
      "---  ------    --------------  -----  \n",
      " 0   CRIM      506 non-null    float64\n",
      " 1   ZN        506 non-null    float64\n",
      " 2   INDUS     506 non-null    float64\n",
      " 3   CHAS      506 non-null    int64  \n",
      " 4   NOX       506 non-null    float64\n",
      " 5   RM        506 non-null    float64\n",
      " 6   AGE       506 non-null    float64\n",
      " 7   DIS       506 non-null    float64\n",
      " 8   RAD       506 non-null    int64  \n",
      " 9   TAX       506 non-null    int64  \n",
      " 10  PITRATIO  506 non-null    float64\n",
      " 11  B         506 non-null    float64\n",
      " 12  LSTAT     506 non-null    float64\n",
      " 13  MEDV      506 non-null    float64\n",
      "dtypes: float64(11), int64(3)\n",
      "memory usage: 55.5 KB\n"
     ]
    }
   ],
   "source": [
    "housing.info()   #On  the basis of this we came to know that no data is missing in any of the column."
   ]
  },
  {
   "cell_type": "code",
   "execution_count": 6,
   "id": "402fa4d7",
   "metadata": {},
   "outputs": [
    {
     "data": {
      "text/plain": [
       "0    471\n",
       "1     35\n",
       "Name: CHAS, dtype: int64"
      ]
     },
     "execution_count": 6,
     "metadata": {},
     "output_type": "execute_result"
    }
   ],
   "source": [
    "housing['CHAS'].value_counts()                 #CHAS is categorical value."
   ]
  },
  {
   "cell_type": "code",
   "execution_count": 7,
   "id": "d481ea79",
   "metadata": {},
   "outputs": [
    {
     "data": {
      "text/html": [
       "<div>\n",
       "<style scoped>\n",
       "    .dataframe tbody tr th:only-of-type {\n",
       "        vertical-align: middle;\n",
       "    }\n",
       "\n",
       "    .dataframe tbody tr th {\n",
       "        vertical-align: top;\n",
       "    }\n",
       "\n",
       "    .dataframe thead th {\n",
       "        text-align: right;\n",
       "    }\n",
       "</style>\n",
       "<table border=\"1\" class=\"dataframe\">\n",
       "  <thead>\n",
       "    <tr style=\"text-align: right;\">\n",
       "      <th></th>\n",
       "      <th>CRIM</th>\n",
       "      <th>ZN</th>\n",
       "      <th>INDUS</th>\n",
       "      <th>CHAS</th>\n",
       "      <th>NOX</th>\n",
       "      <th>RM</th>\n",
       "      <th>AGE</th>\n",
       "      <th>DIS</th>\n",
       "      <th>RAD</th>\n",
       "      <th>TAX</th>\n",
       "      <th>PITRATIO</th>\n",
       "      <th>B</th>\n",
       "      <th>LSTAT</th>\n",
       "      <th>MEDV</th>\n",
       "    </tr>\n",
       "  </thead>\n",
       "  <tbody>\n",
       "    <tr>\n",
       "      <th>count</th>\n",
       "      <td>506.000000</td>\n",
       "      <td>506.000000</td>\n",
       "      <td>506.000000</td>\n",
       "      <td>506.000000</td>\n",
       "      <td>506.000000</td>\n",
       "      <td>506.000000</td>\n",
       "      <td>506.000000</td>\n",
       "      <td>506.000000</td>\n",
       "      <td>506.000000</td>\n",
       "      <td>506.000000</td>\n",
       "      <td>506.000000</td>\n",
       "      <td>506.000000</td>\n",
       "      <td>506.000000</td>\n",
       "      <td>506.000000</td>\n",
       "    </tr>\n",
       "    <tr>\n",
       "      <th>mean</th>\n",
       "      <td>3.613524</td>\n",
       "      <td>11.363636</td>\n",
       "      <td>11.136779</td>\n",
       "      <td>0.069170</td>\n",
       "      <td>0.554695</td>\n",
       "      <td>6.284634</td>\n",
       "      <td>68.574901</td>\n",
       "      <td>3.795043</td>\n",
       "      <td>9.549407</td>\n",
       "      <td>408.237154</td>\n",
       "      <td>18.455534</td>\n",
       "      <td>356.674032</td>\n",
       "      <td>12.653063</td>\n",
       "      <td>22.532806</td>\n",
       "    </tr>\n",
       "    <tr>\n",
       "      <th>std</th>\n",
       "      <td>8.601545</td>\n",
       "      <td>23.322453</td>\n",
       "      <td>6.860353</td>\n",
       "      <td>0.253994</td>\n",
       "      <td>0.115878</td>\n",
       "      <td>0.702617</td>\n",
       "      <td>28.148861</td>\n",
       "      <td>2.105710</td>\n",
       "      <td>8.707259</td>\n",
       "      <td>168.537116</td>\n",
       "      <td>2.164946</td>\n",
       "      <td>91.294864</td>\n",
       "      <td>7.141062</td>\n",
       "      <td>9.197104</td>\n",
       "    </tr>\n",
       "    <tr>\n",
       "      <th>min</th>\n",
       "      <td>0.006320</td>\n",
       "      <td>0.000000</td>\n",
       "      <td>0.460000</td>\n",
       "      <td>0.000000</td>\n",
       "      <td>0.385000</td>\n",
       "      <td>3.561000</td>\n",
       "      <td>2.900000</td>\n",
       "      <td>1.129600</td>\n",
       "      <td>1.000000</td>\n",
       "      <td>187.000000</td>\n",
       "      <td>12.600000</td>\n",
       "      <td>0.320000</td>\n",
       "      <td>1.730000</td>\n",
       "      <td>5.000000</td>\n",
       "    </tr>\n",
       "    <tr>\n",
       "      <th>25%</th>\n",
       "      <td>0.082045</td>\n",
       "      <td>0.000000</td>\n",
       "      <td>5.190000</td>\n",
       "      <td>0.000000</td>\n",
       "      <td>0.449000</td>\n",
       "      <td>5.885500</td>\n",
       "      <td>45.025000</td>\n",
       "      <td>2.100175</td>\n",
       "      <td>4.000000</td>\n",
       "      <td>279.000000</td>\n",
       "      <td>17.400000</td>\n",
       "      <td>375.377500</td>\n",
       "      <td>6.950000</td>\n",
       "      <td>17.025000</td>\n",
       "    </tr>\n",
       "    <tr>\n",
       "      <th>50%</th>\n",
       "      <td>0.256510</td>\n",
       "      <td>0.000000</td>\n",
       "      <td>9.690000</td>\n",
       "      <td>0.000000</td>\n",
       "      <td>0.538000</td>\n",
       "      <td>6.208500</td>\n",
       "      <td>77.500000</td>\n",
       "      <td>3.207450</td>\n",
       "      <td>5.000000</td>\n",
       "      <td>330.000000</td>\n",
       "      <td>19.050000</td>\n",
       "      <td>391.440000</td>\n",
       "      <td>11.360000</td>\n",
       "      <td>21.200000</td>\n",
       "    </tr>\n",
       "    <tr>\n",
       "      <th>75%</th>\n",
       "      <td>3.677083</td>\n",
       "      <td>12.500000</td>\n",
       "      <td>18.100000</td>\n",
       "      <td>0.000000</td>\n",
       "      <td>0.624000</td>\n",
       "      <td>6.623500</td>\n",
       "      <td>94.075000</td>\n",
       "      <td>5.188425</td>\n",
       "      <td>24.000000</td>\n",
       "      <td>666.000000</td>\n",
       "      <td>20.200000</td>\n",
       "      <td>396.225000</td>\n",
       "      <td>16.955000</td>\n",
       "      <td>25.000000</td>\n",
       "    </tr>\n",
       "    <tr>\n",
       "      <th>max</th>\n",
       "      <td>88.976200</td>\n",
       "      <td>100.000000</td>\n",
       "      <td>27.740000</td>\n",
       "      <td>1.000000</td>\n",
       "      <td>0.871000</td>\n",
       "      <td>8.780000</td>\n",
       "      <td>100.000000</td>\n",
       "      <td>12.126500</td>\n",
       "      <td>24.000000</td>\n",
       "      <td>711.000000</td>\n",
       "      <td>22.000000</td>\n",
       "      <td>396.900000</td>\n",
       "      <td>37.970000</td>\n",
       "      <td>50.000000</td>\n",
       "    </tr>\n",
       "  </tbody>\n",
       "</table>\n",
       "</div>"
      ],
      "text/plain": [
       "             CRIM          ZN       INDUS        CHAS         NOX          RM  \\\n",
       "count  506.000000  506.000000  506.000000  506.000000  506.000000  506.000000   \n",
       "mean     3.613524   11.363636   11.136779    0.069170    0.554695    6.284634   \n",
       "std      8.601545   23.322453    6.860353    0.253994    0.115878    0.702617   \n",
       "min      0.006320    0.000000    0.460000    0.000000    0.385000    3.561000   \n",
       "25%      0.082045    0.000000    5.190000    0.000000    0.449000    5.885500   \n",
       "50%      0.256510    0.000000    9.690000    0.000000    0.538000    6.208500   \n",
       "75%      3.677083   12.500000   18.100000    0.000000    0.624000    6.623500   \n",
       "max     88.976200  100.000000   27.740000    1.000000    0.871000    8.780000   \n",
       "\n",
       "              AGE         DIS         RAD         TAX    PITRATIO           B  \\\n",
       "count  506.000000  506.000000  506.000000  506.000000  506.000000  506.000000   \n",
       "mean    68.574901    3.795043    9.549407  408.237154   18.455534  356.674032   \n",
       "std     28.148861    2.105710    8.707259  168.537116    2.164946   91.294864   \n",
       "min      2.900000    1.129600    1.000000  187.000000   12.600000    0.320000   \n",
       "25%     45.025000    2.100175    4.000000  279.000000   17.400000  375.377500   \n",
       "50%     77.500000    3.207450    5.000000  330.000000   19.050000  391.440000   \n",
       "75%     94.075000    5.188425   24.000000  666.000000   20.200000  396.225000   \n",
       "max    100.000000   12.126500   24.000000  711.000000   22.000000  396.900000   \n",
       "\n",
       "            LSTAT        MEDV  \n",
       "count  506.000000  506.000000  \n",
       "mean    12.653063   22.532806  \n",
       "std      7.141062    9.197104  \n",
       "min      1.730000    5.000000  \n",
       "25%      6.950000   17.025000  \n",
       "50%     11.360000   21.200000  \n",
       "75%     16.955000   25.000000  \n",
       "max     37.970000   50.000000  "
      ]
     },
     "execution_count": 7,
     "metadata": {},
     "output_type": "execute_result"
    }
   ],
   "source": [
    "housing.describe()"
   ]
  },
  {
   "cell_type": "code",
   "execution_count": 8,
   "id": "b00acd84",
   "metadata": {},
   "outputs": [],
   "source": [
    "# Histograms."
   ]
  },
  {
   "cell_type": "code",
   "execution_count": 9,
   "id": "6bc1602f",
   "metadata": {},
   "outputs": [
    {
     "data": {
      "image/png": "[encoded data removed]",
      "text/plain": [
       "<Figure size 1440x1080 with 16 Axes>"
      ]
     },
     "metadata": {
      "needs_background": "light"
     },
     "output_type": "display_data"
    }
   ],
   "source": [
    "housing.hist(bins=50,figsize=(20,15))\n",
    "plt.show()"
   ]
  },
  {
   "cell_type": "code",
   "execution_count": 10,
   "id": "c580772d",
   "metadata": {},
   "outputs": [],
   "source": [
    "#MEDV..is price which is in $1000....... MEDV is target .....and other 13 columns are features."
   ]
  },
  {
   "cell_type": "code",
   "execution_count": 11,
   "id": "ad6f82da",
   "metadata": {},
   "outputs": [],
   "source": [
    "#To avoid overfitting we are not going to view more data from this dataset and not going to apply any model on entire data set\n",
    "#SO to avoid overfitting ...we need to split the dataset in train and test."
   ]
  },
  {
   "cell_type": "markdown",
   "id": "08be4d36",
   "metadata": {},
   "source": [
    "# Train_Test_Splitting"
   ]
  },
  {
   "cell_type": "code",
   "execution_count": 12,
   "id": "72e4faaf",
   "metadata": {},
   "outputs": [],
   "source": [
    "from sklearn.model_selection  import train_test_split\n",
    "train_set,test_set=train_test_split(housing,test_size=0.2,random_state=42)   #random_state=42....kind of seeding random..\n",
    "                                                                             #seed means train and test set got locked..no train \n",
    "                                                                             #data gonna come into test and vise-versa."
   ]
  },
  {
   "cell_type": "code",
   "execution_count": 13,
   "id": "f608264d",
   "metadata": {},
   "outputs": [
    {
     "name": "stdout",
     "output_type": "stream",
     "text": [
      "Rows in train set:404\n",
      "Rows in test set: 102\n",
      "\n"
     ]
    }
   ],
   "source": [
    "print(f\"Rows in train set:{len(train_set)}\\nRows in test set: {len(test_set)}\\n\")"
   ]
  },
  {
   "cell_type": "code",
   "execution_count": 14,
   "id": "8c8ef191",
   "metadata": {},
   "outputs": [],
   "source": [
    "#but still there is a problem...we dont want caterogical features having same kind of values to go to only in test...this will\n",
    "#mislead our model.....\n",
    "#so in order to distribute each kind of datapoint in both train and test set....so that model cannot be baised or misleaded...\n",
    "#we gonna do the follow...we have to introduce .....Stratified Shuffle Split\n",
    "#suppose CHAS is so important feature for prediction of price...so we have to use this .Stratified Shuffle Split so that its\n",
    "#values get equally distributed in train and test set."
   ]
  },
  {
   "cell_type": "code",
   "execution_count": 15,
   "id": "cb0811e4",
   "metadata": {},
   "outputs": [],
   "source": [
    "from sklearn.model_selection import StratifiedShuffleSplit\n",
    "\n",
    "split=StratifiedShuffleSplit(n_splits=1,test_size=0.2,random_state=42)\n",
    "\n",
    "for train_index,test_index in split.split(housing,housing['CHAS']):\n",
    "    strat_train_set=housing.loc[train_index]\n",
    "    strat_test_set=housing.loc[test_index]\n"
   ]
  },
  {
   "cell_type": "code",
   "execution_count": 16,
   "id": "9645d9cf",
   "metadata": {},
   "outputs": [
    {
     "data": {
      "text/html": [
       "<div>\n",
       "<style scoped>\n",
       "    .dataframe tbody tr th:only-of-type {\n",
       "        vertical-align: middle;\n",
       "    }\n",
       "\n",
       "    .dataframe tbody tr th {\n",
       "        vertical-align: top;\n",
       "    }\n",
       "\n",
       "    .dataframe thead th {\n",
       "        text-align: right;\n",
       "    }\n",
       "</style>\n",
       "<table border=\"1\" class=\"dataframe\">\n",
       "  <thead>\n",
       "    <tr style=\"text-align: right;\">\n",
       "      <th></th>\n",
       "      <th>CRIM</th>\n",
       "      <th>ZN</th>\n",
       "      <th>INDUS</th>\n",
       "      <th>CHAS</th>\n",
       "      <th>NOX</th>\n",
       "      <th>RM</th>\n",
       "      <th>AGE</th>\n",
       "      <th>DIS</th>\n",
       "      <th>RAD</th>\n",
       "      <th>TAX</th>\n",
       "      <th>PITRATIO</th>\n",
       "      <th>B</th>\n",
       "      <th>LSTAT</th>\n",
       "      <th>MEDV</th>\n",
       "    </tr>\n",
       "  </thead>\n",
       "  <tbody>\n",
       "    <tr>\n",
       "      <th>254</th>\n",
       "      <td>0.04819</td>\n",
       "      <td>80.0</td>\n",
       "      <td>3.64</td>\n",
       "      <td>0</td>\n",
       "      <td>0.392</td>\n",
       "      <td>6.108</td>\n",
       "      <td>32.0</td>\n",
       "      <td>9.2203</td>\n",
       "      <td>1</td>\n",
       "      <td>315</td>\n",
       "      <td>16.4</td>\n",
       "      <td>392.89</td>\n",
       "      <td>6.57</td>\n",
       "      <td>21.9</td>\n",
       "    </tr>\n",
       "    <tr>\n",
       "      <th>348</th>\n",
       "      <td>0.01501</td>\n",
       "      <td>80.0</td>\n",
       "      <td>2.01</td>\n",
       "      <td>0</td>\n",
       "      <td>0.435</td>\n",
       "      <td>6.635</td>\n",
       "      <td>29.7</td>\n",
       "      <td>8.3440</td>\n",
       "      <td>4</td>\n",
       "      <td>280</td>\n",
       "      <td>17.0</td>\n",
       "      <td>390.94</td>\n",
       "      <td>5.99</td>\n",
       "      <td>24.5</td>\n",
       "    </tr>\n",
       "    <tr>\n",
       "      <th>476</th>\n",
       "      <td>4.87141</td>\n",
       "      <td>0.0</td>\n",
       "      <td>18.10</td>\n",
       "      <td>0</td>\n",
       "      <td>0.614</td>\n",
       "      <td>6.484</td>\n",
       "      <td>93.6</td>\n",
       "      <td>2.3053</td>\n",
       "      <td>24</td>\n",
       "      <td>666</td>\n",
       "      <td>20.2</td>\n",
       "      <td>396.21</td>\n",
       "      <td>18.68</td>\n",
       "      <td>16.7</td>\n",
       "    </tr>\n",
       "    <tr>\n",
       "      <th>321</th>\n",
       "      <td>0.18159</td>\n",
       "      <td>0.0</td>\n",
       "      <td>7.38</td>\n",
       "      <td>0</td>\n",
       "      <td>0.493</td>\n",
       "      <td>6.376</td>\n",
       "      <td>54.3</td>\n",
       "      <td>4.5404</td>\n",
       "      <td>5</td>\n",
       "      <td>287</td>\n",
       "      <td>19.6</td>\n",
       "      <td>396.90</td>\n",
       "      <td>6.87</td>\n",
       "      <td>23.1</td>\n",
       "    </tr>\n",
       "    <tr>\n",
       "      <th>326</th>\n",
       "      <td>0.30347</td>\n",
       "      <td>0.0</td>\n",
       "      <td>7.38</td>\n",
       "      <td>0</td>\n",
       "      <td>0.493</td>\n",
       "      <td>6.312</td>\n",
       "      <td>28.9</td>\n",
       "      <td>5.4159</td>\n",
       "      <td>5</td>\n",
       "      <td>287</td>\n",
       "      <td>19.6</td>\n",
       "      <td>396.90</td>\n",
       "      <td>6.15</td>\n",
       "      <td>23.0</td>\n",
       "    </tr>\n",
       "    <tr>\n",
       "      <th>...</th>\n",
       "      <td>...</td>\n",
       "      <td>...</td>\n",
       "      <td>...</td>\n",
       "      <td>...</td>\n",
       "      <td>...</td>\n",
       "      <td>...</td>\n",
       "      <td>...</td>\n",
       "      <td>...</td>\n",
       "      <td>...</td>\n",
       "      <td>...</td>\n",
       "      <td>...</td>\n",
       "      <td>...</td>\n",
       "      <td>...</td>\n",
       "      <td>...</td>\n",
       "    </tr>\n",
       "    <tr>\n",
       "      <th>155</th>\n",
       "      <td>3.53501</td>\n",
       "      <td>0.0</td>\n",
       "      <td>19.58</td>\n",
       "      <td>1</td>\n",
       "      <td>0.871</td>\n",
       "      <td>6.152</td>\n",
       "      <td>82.6</td>\n",
       "      <td>1.7455</td>\n",
       "      <td>5</td>\n",
       "      <td>403</td>\n",
       "      <td>14.7</td>\n",
       "      <td>88.01</td>\n",
       "      <td>15.02</td>\n",
       "      <td>15.6</td>\n",
       "    </tr>\n",
       "    <tr>\n",
       "      <th>423</th>\n",
       "      <td>7.05042</td>\n",
       "      <td>0.0</td>\n",
       "      <td>18.10</td>\n",
       "      <td>0</td>\n",
       "      <td>0.614</td>\n",
       "      <td>6.103</td>\n",
       "      <td>85.1</td>\n",
       "      <td>2.0218</td>\n",
       "      <td>24</td>\n",
       "      <td>666</td>\n",
       "      <td>20.2</td>\n",
       "      <td>2.52</td>\n",
       "      <td>23.29</td>\n",
       "      <td>13.4</td>\n",
       "    </tr>\n",
       "    <tr>\n",
       "      <th>98</th>\n",
       "      <td>0.08187</td>\n",
       "      <td>0.0</td>\n",
       "      <td>2.89</td>\n",
       "      <td>0</td>\n",
       "      <td>0.445</td>\n",
       "      <td>7.820</td>\n",
       "      <td>36.9</td>\n",
       "      <td>3.4952</td>\n",
       "      <td>2</td>\n",
       "      <td>276</td>\n",
       "      <td>18.0</td>\n",
       "      <td>393.53</td>\n",
       "      <td>3.57</td>\n",
       "      <td>43.8</td>\n",
       "    </tr>\n",
       "    <tr>\n",
       "      <th>455</th>\n",
       "      <td>4.75237</td>\n",
       "      <td>0.0</td>\n",
       "      <td>18.10</td>\n",
       "      <td>0</td>\n",
       "      <td>0.713</td>\n",
       "      <td>6.525</td>\n",
       "      <td>86.5</td>\n",
       "      <td>2.4358</td>\n",
       "      <td>24</td>\n",
       "      <td>666</td>\n",
       "      <td>20.2</td>\n",
       "      <td>50.92</td>\n",
       "      <td>18.13</td>\n",
       "      <td>14.1</td>\n",
       "    </tr>\n",
       "    <tr>\n",
       "      <th>216</th>\n",
       "      <td>0.04560</td>\n",
       "      <td>0.0</td>\n",
       "      <td>13.89</td>\n",
       "      <td>1</td>\n",
       "      <td>0.550</td>\n",
       "      <td>5.888</td>\n",
       "      <td>56.0</td>\n",
       "      <td>3.1121</td>\n",
       "      <td>5</td>\n",
       "      <td>276</td>\n",
       "      <td>16.4</td>\n",
       "      <td>392.80</td>\n",
       "      <td>13.51</td>\n",
       "      <td>23.3</td>\n",
       "    </tr>\n",
       "  </tbody>\n",
       "</table>\n",
       "<p>404 rows × 14 columns</p>\n",
       "</div>"
      ],
      "text/plain": [
       "        CRIM    ZN  INDUS  CHAS    NOX     RM   AGE     DIS  RAD  TAX  \\\n",
       "254  0.04819  80.0   3.64     0  0.392  6.108  32.0  9.2203    1  315   \n",
       "348  0.01501  80.0   2.01     0  0.435  6.635  29.7  8.3440    4  280   \n",
       "476  4.87141   0.0  18.10     0  0.614  6.484  93.6  2.3053   24  666   \n",
       "321  0.18159   0.0   7.38     0  0.493  6.376  54.3  4.5404    5  287   \n",
       "326  0.30347   0.0   7.38     0  0.493  6.312  28.9  5.4159    5  287   \n",
       "..       ...   ...    ...   ...    ...    ...   ...     ...  ...  ...   \n",
       "155  3.53501   0.0  19.58     1  0.871  6.152  82.6  1.7455    5  403   \n",
       "423  7.05042   0.0  18.10     0  0.614  6.103  85.1  2.0218   24  666   \n",
       "98   0.08187   0.0   2.89     0  0.445  7.820  36.9  3.4952    2  276   \n",
       "455  4.75237   0.0  18.10     0  0.713  6.525  86.5  2.4358   24  666   \n",
       "216  0.04560   0.0  13.89     1  0.550  5.888  56.0  3.1121    5  276   \n",
       "\n",
       "     PITRATIO       B  LSTAT  MEDV  \n",
       "254      16.4  392.89   6.57  21.9  \n",
       "348      17.0  390.94   5.99  24.5  \n",
       "476      20.2  396.21  18.68  16.7  \n",
       "321      19.6  396.90   6.87  23.1  \n",
       "326      19.6  396.90   6.15  23.0  \n",
       "..        ...     ...    ...   ...  \n",
       "155      14.7   88.01  15.02  15.6  \n",
       "423      20.2    2.52  23.29  13.4  \n",
       "98       18.0  393.53   3.57  43.8  \n",
       "455      20.2   50.92  18.13  14.1  \n",
       "216      16.4  392.80  13.51  23.3  \n",
       "\n",
       "[404 rows x 14 columns]"
      ]
     },
     "execution_count": 16,
     "metadata": {},
     "output_type": "execute_result"
    }
   ],
   "source": [
    "strat_train_set                  #SEE CHAS HAVVING BOTH 0 AND 1."
   ]
  },
  {
   "cell_type": "code",
   "execution_count": 17,
   "id": "e19ff9c6",
   "metadata": {},
   "outputs": [
    {
     "data": {
      "text/html": [
       "<div>\n",
       "<style scoped>\n",
       "    .dataframe tbody tr th:only-of-type {\n",
       "        vertical-align: middle;\n",
       "    }\n",
       "\n",
       "    .dataframe tbody tr th {\n",
       "        vertical-align: top;\n",
       "    }\n",
       "\n",
       "    .dataframe thead th {\n",
       "        text-align: right;\n",
       "    }\n",
       "</style>\n",
       "<table border=\"1\" class=\"dataframe\">\n",
       "  <thead>\n",
       "    <tr style=\"text-align: right;\">\n",
       "      <th></th>\n",
       "      <th>CRIM</th>\n",
       "      <th>ZN</th>\n",
       "      <th>INDUS</th>\n",
       "      <th>CHAS</th>\n",
       "      <th>NOX</th>\n",
       "      <th>RM</th>\n",
       "      <th>AGE</th>\n",
       "      <th>DIS</th>\n",
       "      <th>RAD</th>\n",
       "      <th>TAX</th>\n",
       "      <th>PITRATIO</th>\n",
       "      <th>B</th>\n",
       "      <th>LSTAT</th>\n",
       "      <th>MEDV</th>\n",
       "    </tr>\n",
       "  </thead>\n",
       "  <tbody>\n",
       "    <tr>\n",
       "      <th>342</th>\n",
       "      <td>0.02498</td>\n",
       "      <td>0.0</td>\n",
       "      <td>1.89</td>\n",
       "      <td>0</td>\n",
       "      <td>0.518</td>\n",
       "      <td>6.540</td>\n",
       "      <td>59.7</td>\n",
       "      <td>6.2669</td>\n",
       "      <td>1</td>\n",
       "      <td>422</td>\n",
       "      <td>15.9</td>\n",
       "      <td>389.96</td>\n",
       "      <td>8.65</td>\n",
       "      <td>16.5</td>\n",
       "    </tr>\n",
       "    <tr>\n",
       "      <th>379</th>\n",
       "      <td>17.86670</td>\n",
       "      <td>0.0</td>\n",
       "      <td>18.10</td>\n",
       "      <td>0</td>\n",
       "      <td>0.671</td>\n",
       "      <td>6.223</td>\n",
       "      <td>100.0</td>\n",
       "      <td>1.3861</td>\n",
       "      <td>24</td>\n",
       "      <td>666</td>\n",
       "      <td>20.2</td>\n",
       "      <td>393.74</td>\n",
       "      <td>21.78</td>\n",
       "      <td>10.2</td>\n",
       "    </tr>\n",
       "    <tr>\n",
       "      <th>223</th>\n",
       "      <td>0.61470</td>\n",
       "      <td>0.0</td>\n",
       "      <td>6.20</td>\n",
       "      <td>0</td>\n",
       "      <td>0.507</td>\n",
       "      <td>6.618</td>\n",
       "      <td>80.8</td>\n",
       "      <td>3.2721</td>\n",
       "      <td>8</td>\n",
       "      <td>307</td>\n",
       "      <td>17.4</td>\n",
       "      <td>396.90</td>\n",
       "      <td>7.60</td>\n",
       "      <td>30.1</td>\n",
       "    </tr>\n",
       "    <tr>\n",
       "      <th>219</th>\n",
       "      <td>0.11425</td>\n",
       "      <td>0.0</td>\n",
       "      <td>13.89</td>\n",
       "      <td>1</td>\n",
       "      <td>0.550</td>\n",
       "      <td>6.373</td>\n",
       "      <td>92.4</td>\n",
       "      <td>3.3633</td>\n",
       "      <td>5</td>\n",
       "      <td>276</td>\n",
       "      <td>16.4</td>\n",
       "      <td>393.74</td>\n",
       "      <td>10.50</td>\n",
       "      <td>23.0</td>\n",
       "    </tr>\n",
       "    <tr>\n",
       "      <th>48</th>\n",
       "      <td>0.25387</td>\n",
       "      <td>0.0</td>\n",
       "      <td>6.91</td>\n",
       "      <td>0</td>\n",
       "      <td>0.448</td>\n",
       "      <td>5.399</td>\n",
       "      <td>95.3</td>\n",
       "      <td>5.8700</td>\n",
       "      <td>3</td>\n",
       "      <td>233</td>\n",
       "      <td>17.9</td>\n",
       "      <td>396.90</td>\n",
       "      <td>30.81</td>\n",
       "      <td>14.4</td>\n",
       "    </tr>\n",
       "  </tbody>\n",
       "</table>\n",
       "</div>"
      ],
      "text/plain": [
       "         CRIM   ZN  INDUS  CHAS    NOX     RM    AGE     DIS  RAD  TAX  \\\n",
       "342   0.02498  0.0   1.89     0  0.518  6.540   59.7  6.2669    1  422   \n",
       "379  17.86670  0.0  18.10     0  0.671  6.223  100.0  1.3861   24  666   \n",
       "223   0.61470  0.0   6.20     0  0.507  6.618   80.8  3.2721    8  307   \n",
       "219   0.11425  0.0  13.89     1  0.550  6.373   92.4  3.3633    5  276   \n",
       "48    0.25387  0.0   6.91     0  0.448  5.399   95.3  5.8700    3  233   \n",
       "\n",
       "     PITRATIO       B  LSTAT  MEDV  \n",
       "342      15.9  389.96   8.65  16.5  \n",
       "379      20.2  393.74  21.78  10.2  \n",
       "223      17.4  396.90   7.60  30.1  \n",
       "219      16.4  393.74  10.50  23.0  \n",
       "48       17.9  396.90  30.81  14.4  "
      ]
     },
     "execution_count": 17,
     "metadata": {},
     "output_type": "execute_result"
    }
   ],
   "source": [
    "strat_test_set.head()"
   ]
  },
  {
   "cell_type": "code",
   "execution_count": 18,
   "id": "6b8b2be2",
   "metadata": {},
   "outputs": [
    {
     "data": {
      "text/html": [
       "<div>\n",
       "<style scoped>\n",
       "    .dataframe tbody tr th:only-of-type {\n",
       "        vertical-align: middle;\n",
       "    }\n",
       "\n",
       "    .dataframe tbody tr th {\n",
       "        vertical-align: top;\n",
       "    }\n",
       "\n",
       "    .dataframe thead th {\n",
       "        text-align: right;\n",
       "    }\n",
       "</style>\n",
       "<table border=\"1\" class=\"dataframe\">\n",
       "  <thead>\n",
       "    <tr style=\"text-align: right;\">\n",
       "      <th></th>\n",
       "      <th>CRIM</th>\n",
       "      <th>ZN</th>\n",
       "      <th>INDUS</th>\n",
       "      <th>CHAS</th>\n",
       "      <th>NOX</th>\n",
       "      <th>RM</th>\n",
       "      <th>AGE</th>\n",
       "      <th>DIS</th>\n",
       "      <th>RAD</th>\n",
       "      <th>TAX</th>\n",
       "      <th>PITRATIO</th>\n",
       "      <th>B</th>\n",
       "      <th>LSTAT</th>\n",
       "      <th>MEDV</th>\n",
       "    </tr>\n",
       "  </thead>\n",
       "  <tbody>\n",
       "    <tr>\n",
       "      <th>342</th>\n",
       "      <td>0.02498</td>\n",
       "      <td>0.0</td>\n",
       "      <td>1.89</td>\n",
       "      <td>0</td>\n",
       "      <td>0.518</td>\n",
       "      <td>6.540</td>\n",
       "      <td>59.7</td>\n",
       "      <td>6.2669</td>\n",
       "      <td>1</td>\n",
       "      <td>422</td>\n",
       "      <td>15.9</td>\n",
       "      <td>389.96</td>\n",
       "      <td>8.65</td>\n",
       "      <td>16.5</td>\n",
       "    </tr>\n",
       "    <tr>\n",
       "      <th>379</th>\n",
       "      <td>17.86670</td>\n",
       "      <td>0.0</td>\n",
       "      <td>18.10</td>\n",
       "      <td>0</td>\n",
       "      <td>0.671</td>\n",
       "      <td>6.223</td>\n",
       "      <td>100.0</td>\n",
       "      <td>1.3861</td>\n",
       "      <td>24</td>\n",
       "      <td>666</td>\n",
       "      <td>20.2</td>\n",
       "      <td>393.74</td>\n",
       "      <td>21.78</td>\n",
       "      <td>10.2</td>\n",
       "    </tr>\n",
       "    <tr>\n",
       "      <th>223</th>\n",
       "      <td>0.61470</td>\n",
       "      <td>0.0</td>\n",
       "      <td>6.20</td>\n",
       "      <td>0</td>\n",
       "      <td>0.507</td>\n",
       "      <td>6.618</td>\n",
       "      <td>80.8</td>\n",
       "      <td>3.2721</td>\n",
       "      <td>8</td>\n",
       "      <td>307</td>\n",
       "      <td>17.4</td>\n",
       "      <td>396.90</td>\n",
       "      <td>7.60</td>\n",
       "      <td>30.1</td>\n",
       "    </tr>\n",
       "    <tr>\n",
       "      <th>219</th>\n",
       "      <td>0.11425</td>\n",
       "      <td>0.0</td>\n",
       "      <td>13.89</td>\n",
       "      <td>1</td>\n",
       "      <td>0.550</td>\n",
       "      <td>6.373</td>\n",
       "      <td>92.4</td>\n",
       "      <td>3.3633</td>\n",
       "      <td>5</td>\n",
       "      <td>276</td>\n",
       "      <td>16.4</td>\n",
       "      <td>393.74</td>\n",
       "      <td>10.50</td>\n",
       "      <td>23.0</td>\n",
       "    </tr>\n",
       "    <tr>\n",
       "      <th>48</th>\n",
       "      <td>0.25387</td>\n",
       "      <td>0.0</td>\n",
       "      <td>6.91</td>\n",
       "      <td>0</td>\n",
       "      <td>0.448</td>\n",
       "      <td>5.399</td>\n",
       "      <td>95.3</td>\n",
       "      <td>5.8700</td>\n",
       "      <td>3</td>\n",
       "      <td>233</td>\n",
       "      <td>17.9</td>\n",
       "      <td>396.90</td>\n",
       "      <td>30.81</td>\n",
       "      <td>14.4</td>\n",
       "    </tr>\n",
       "  </tbody>\n",
       "</table>\n",
       "</div>"
      ],
      "text/plain": [
       "         CRIM   ZN  INDUS  CHAS    NOX     RM    AGE     DIS  RAD  TAX  \\\n",
       "342   0.02498  0.0   1.89     0  0.518  6.540   59.7  6.2669    1  422   \n",
       "379  17.86670  0.0  18.10     0  0.671  6.223  100.0  1.3861   24  666   \n",
       "223   0.61470  0.0   6.20     0  0.507  6.618   80.8  3.2721    8  307   \n",
       "219   0.11425  0.0  13.89     1  0.550  6.373   92.4  3.3633    5  276   \n",
       "48    0.25387  0.0   6.91     0  0.448  5.399   95.3  5.8700    3  233   \n",
       "\n",
       "     PITRATIO       B  LSTAT  MEDV  \n",
       "342      15.9  389.96   8.65  16.5  \n",
       "379      20.2  393.74  21.78  10.2  \n",
       "223      17.4  396.90   7.60  30.1  \n",
       "219      16.4  393.74  10.50  23.0  \n",
       "48       17.9  396.90  30.81  14.4  "
      ]
     },
     "execution_count": 18,
     "metadata": {},
     "output_type": "execute_result"
    }
   ],
   "source": [
    "strat_test_set.head()"
   ]
  },
  {
   "cell_type": "code",
   "execution_count": 19,
   "id": "4a945165",
   "metadata": {},
   "outputs": [
    {
     "data": {
      "text/plain": [
       "0    376\n",
       "1     28\n",
       "Name: CHAS, dtype: int64"
      ]
     },
     "execution_count": 19,
     "metadata": {},
     "output_type": "execute_result"
    }
   ],
   "source": [
    "strat_train_set['CHAS'].value_counts()"
   ]
  },
  {
   "cell_type": "code",
   "execution_count": 20,
   "id": "d7289c3c",
   "metadata": {},
   "outputs": [
    {
     "data": {
      "text/plain": [
       "0    95\n",
       "1     7\n",
       "Name: CHAS, dtype: int64"
      ]
     },
     "execution_count": 20,
     "metadata": {},
     "output_type": "execute_result"
    }
   ],
   "source": [
    "strat_test_set['CHAS'].value_counts()"
   ]
  },
  {
   "cell_type": "code",
   "execution_count": 21,
   "id": "e61a4d36",
   "metadata": {},
   "outputs": [
    {
     "data": {
      "text/plain": [
       "13.428571428571429"
      ]
     },
     "execution_count": 21,
     "metadata": {},
     "output_type": "execute_result"
    }
   ],
   "source": [
    "#so if we divide 376/28\n",
    "376/28"
   ]
  },
  {
   "cell_type": "code",
   "execution_count": 22,
   "id": "38cc302d",
   "metadata": {},
   "outputs": [
    {
     "data": {
      "text/plain": [
       "13.571428571428571"
      ]
     },
     "execution_count": 22,
     "metadata": {},
     "output_type": "execute_result"
    }
   ],
   "source": [
    "#and 95/7\n",
    "95/7"
   ]
  },
  {
   "cell_type": "code",
   "execution_count": 23,
   "id": "14cf8e58",
   "metadata": {},
   "outputs": [],
   "source": [
    "#so we are getting the same ratio....that is called as  Stratified Shuffle Split.....as it splits 0's and 1's in equal ratio\n",
    "#to test and train sets...ratio of 13.42 approx...\n",
    "#this will not mislead our model now....for proper Regression."
   ]
  },
  {
   "cell_type": "code",
   "execution_count": 24,
   "id": "07bac3b7",
   "metadata": {},
   "outputs": [],
   "source": [
    "#BEFORE CORRELATION....USE TRAIN SET FOR LOOKING INTO CORRELATION....COPY TRAIN SET INTO HOUSING...\n",
    "#BEACUSE FROM HERE WE NOT GONNA LOOK INTO TEST SET AND ONLY CAN WORK WITH TRAIN SET...\n",
    "housing=strat_train_set.copy()"
   ]
  },
  {
   "cell_type": "markdown",
   "id": "c0b7e94d",
   "metadata": {},
   "source": [
    "# Looking for Correlations"
   ]
  },
  {
   "cell_type": "code",
   "execution_count": 25,
   "id": "f042d6dd",
   "metadata": {},
   "outputs": [],
   "source": [
    "corr_matrix=housing.corr()"
   ]
  },
  {
   "cell_type": "code",
   "execution_count": 26,
   "id": "a36b9378",
   "metadata": {},
   "outputs": [
    {
     "data": {
      "text/plain": [
       "MEDV        1.000000\n",
       "RM          0.679894\n",
       "B           0.361761\n",
       "ZN          0.339741\n",
       "DIS         0.240451\n",
       "CHAS        0.205066\n",
       "AGE        -0.364596\n",
       "RAD        -0.374693\n",
       "CRIM       -0.393715\n",
       "NOX        -0.422873\n",
       "TAX        -0.456657\n",
       "INDUS      -0.473516\n",
       "PITRATIO   -0.493534\n",
       "LSTAT      -0.740494\n",
       "Name: MEDV, dtype: float64"
      ]
     },
     "execution_count": 26,
     "metadata": {},
     "output_type": "execute_result"
    }
   ],
   "source": [
    "corr_matrix['MEDV'].sort_values(ascending=False)              #Works on Karls Person coeff of correlation."
   ]
  },
  {
   "cell_type": "code",
   "execution_count": 27,
   "id": "e70f928f",
   "metadata": {},
   "outputs": [],
   "source": [
    "#14*14 gives 196 graphs....nobody is going to analyse this much of graph...so thats why we only gonna plot \n",
    "#those ..having postive or negavtive high correlations."
   ]
  },
  {
   "cell_type": "code",
   "execution_count": 28,
   "id": "d96cc6c6",
   "metadata": {},
   "outputs": [
    {
     "data": {
      "image/png": "[encoded data removed]",
      "text/plain": [
       "<Figure size 864x720 with 16 Axes>"
      ]
     },
     "metadata": {
      "needs_background": "light"
     },
     "output_type": "display_data"
    }
   ],
   "source": [
    "from pandas.plotting import scatter_matrix\n",
    "\n",
    "#List interested features to find correlations..\n",
    "attributes=['MEDV','RM','ZN','LSTAT']\n",
    "scatter_matrix(housing[attributes],figsize=(12,10))\n",
    "plt.show()"
   ]
  },
  {
   "cell_type": "code",
   "execution_count": 29,
   "id": "7e0ae081",
   "metadata": {},
   "outputs": [],
   "source": [
    "#Result we can extract is: two things....MEDV AND RM  ,   MEDV AND LSTAT"
   ]
  },
  {
   "cell_type": "code",
   "execution_count": 30,
   "id": "7ca3bc4e",
   "metadata": {},
   "outputs": [],
   "source": [
    "#NOW IF WE WANT TO GET ENLARGE PLOT OF THESE TWO SCATTER PLOTS...RM Vs. MEDV , LSTAT Vs. MEDV"
   ]
  },
  {
   "cell_type": "code",
   "execution_count": 31,
   "id": "2e85daf9",
   "metadata": {},
   "outputs": [
    {
     "data": {
      "text/plain": [
       "<AxesSubplot:xlabel='RM', ylabel='MEDV'>"
      ]
     },
     "execution_count": 31,
     "metadata": {},
     "output_type": "execute_result"
    },
    {
     "data": {
      "image/png": "[encoded data removed]",
      "text/plain": [
       "<Figure size 432x288 with 1 Axes>"
      ]
     },
     "metadata": {
      "needs_background": "light"
     },
     "output_type": "display_data"
    }
   ],
   "source": [
    "housing.plot(kind='scatter',x='RM',y='MEDV',alpha=0.8)    #alpha : colour darkless.....0.8 dark.....0.2,0.3 light in color."
   ]
  },
  {
   "cell_type": "code",
   "execution_count": 32,
   "id": "8ffa1008",
   "metadata": {},
   "outputs": [],
   "source": [
    "#WE can remove outliers so that we can get good prediction....outliers not gonna get effect it..\n",
    "#also...if we can see this graph got capped as 50 in MEDV..and there is a straight line visible..\n",
    "#but its unusal to thing.....5 RM : 5 room ...having $50000....and 9 RM: having $ 50000....this is not possible...in that case \n",
    "#contact to your client and get the proper issue and insight of this happening.."
   ]
  },
  {
   "cell_type": "markdown",
   "id": "75caf1b2",
   "metadata": {},
   "source": [
    "#  Try Out Attributes Combinations"
   ]
  },
  {
   "cell_type": "code",
   "execution_count": 33,
   "id": "41d26cd9",
   "metadata": {},
   "outputs": [],
   "source": [
    "#WE CAN MAKE AN ATTRIBUTE TAX PER ROOM.....WE CAN INSERT NAME COLUMN TO OUR DATAFRAME...TRM : Tax Per Room"
   ]
  },
  {
   "cell_type": "code",
   "execution_count": 34,
   "id": "729ef2be",
   "metadata": {},
   "outputs": [],
   "source": [
    "housing['TRM']=housing['TAX']/housing['RM']"
   ]
  },
  {
   "cell_type": "code",
   "execution_count": 35,
   "id": "812a4ecb",
   "metadata": {},
   "outputs": [
    {
     "data": {
      "text/html": [
       "<div>\n",
       "<style scoped>\n",
       "    .dataframe tbody tr th:only-of-type {\n",
       "        vertical-align: middle;\n",
       "    }\n",
       "\n",
       "    .dataframe tbody tr th {\n",
       "        vertical-align: top;\n",
       "    }\n",
       "\n",
       "    .dataframe thead th {\n",
       "        text-align: right;\n",
       "    }\n",
       "</style>\n",
       "<table border=\"1\" class=\"dataframe\">\n",
       "  <thead>\n",
       "    <tr style=\"text-align: right;\">\n",
       "      <th></th>\n",
       "      <th>CRIM</th>\n",
       "      <th>ZN</th>\n",
       "      <th>INDUS</th>\n",
       "      <th>CHAS</th>\n",
       "      <th>NOX</th>\n",
       "      <th>RM</th>\n",
       "      <th>AGE</th>\n",
       "      <th>DIS</th>\n",
       "      <th>RAD</th>\n",
       "      <th>TAX</th>\n",
       "      <th>PITRATIO</th>\n",
       "      <th>B</th>\n",
       "      <th>LSTAT</th>\n",
       "      <th>MEDV</th>\n",
       "      <th>TRM</th>\n",
       "    </tr>\n",
       "  </thead>\n",
       "  <tbody>\n",
       "    <tr>\n",
       "      <th>254</th>\n",
       "      <td>0.04819</td>\n",
       "      <td>80.0</td>\n",
       "      <td>3.64</td>\n",
       "      <td>0</td>\n",
       "      <td>0.392</td>\n",
       "      <td>6.108</td>\n",
       "      <td>32.0</td>\n",
       "      <td>9.2203</td>\n",
       "      <td>1</td>\n",
       "      <td>315</td>\n",
       "      <td>16.4</td>\n",
       "      <td>392.89</td>\n",
       "      <td>6.57</td>\n",
       "      <td>21.9</td>\n",
       "      <td>51.571709</td>\n",
       "    </tr>\n",
       "    <tr>\n",
       "      <th>348</th>\n",
       "      <td>0.01501</td>\n",
       "      <td>80.0</td>\n",
       "      <td>2.01</td>\n",
       "      <td>0</td>\n",
       "      <td>0.435</td>\n",
       "      <td>6.635</td>\n",
       "      <td>29.7</td>\n",
       "      <td>8.3440</td>\n",
       "      <td>4</td>\n",
       "      <td>280</td>\n",
       "      <td>17.0</td>\n",
       "      <td>390.94</td>\n",
       "      <td>5.99</td>\n",
       "      <td>24.5</td>\n",
       "      <td>42.200452</td>\n",
       "    </tr>\n",
       "    <tr>\n",
       "      <th>476</th>\n",
       "      <td>4.87141</td>\n",
       "      <td>0.0</td>\n",
       "      <td>18.10</td>\n",
       "      <td>0</td>\n",
       "      <td>0.614</td>\n",
       "      <td>6.484</td>\n",
       "      <td>93.6</td>\n",
       "      <td>2.3053</td>\n",
       "      <td>24</td>\n",
       "      <td>666</td>\n",
       "      <td>20.2</td>\n",
       "      <td>396.21</td>\n",
       "      <td>18.68</td>\n",
       "      <td>16.7</td>\n",
       "      <td>102.714374</td>\n",
       "    </tr>\n",
       "    <tr>\n",
       "      <th>321</th>\n",
       "      <td>0.18159</td>\n",
       "      <td>0.0</td>\n",
       "      <td>7.38</td>\n",
       "      <td>0</td>\n",
       "      <td>0.493</td>\n",
       "      <td>6.376</td>\n",
       "      <td>54.3</td>\n",
       "      <td>4.5404</td>\n",
       "      <td>5</td>\n",
       "      <td>287</td>\n",
       "      <td>19.6</td>\n",
       "      <td>396.90</td>\n",
       "      <td>6.87</td>\n",
       "      <td>23.1</td>\n",
       "      <td>45.012547</td>\n",
       "    </tr>\n",
       "    <tr>\n",
       "      <th>326</th>\n",
       "      <td>0.30347</td>\n",
       "      <td>0.0</td>\n",
       "      <td>7.38</td>\n",
       "      <td>0</td>\n",
       "      <td>0.493</td>\n",
       "      <td>6.312</td>\n",
       "      <td>28.9</td>\n",
       "      <td>5.4159</td>\n",
       "      <td>5</td>\n",
       "      <td>287</td>\n",
       "      <td>19.6</td>\n",
       "      <td>396.90</td>\n",
       "      <td>6.15</td>\n",
       "      <td>23.0</td>\n",
       "      <td>45.468948</td>\n",
       "    </tr>\n",
       "  </tbody>\n",
       "</table>\n",
       "</div>"
      ],
      "text/plain": [
       "        CRIM    ZN  INDUS  CHAS    NOX     RM   AGE     DIS  RAD  TAX  \\\n",
       "254  0.04819  80.0   3.64     0  0.392  6.108  32.0  9.2203    1  315   \n",
       "348  0.01501  80.0   2.01     0  0.435  6.635  29.7  8.3440    4  280   \n",
       "476  4.87141   0.0  18.10     0  0.614  6.484  93.6  2.3053   24  666   \n",
       "321  0.18159   0.0   7.38     0  0.493  6.376  54.3  4.5404    5  287   \n",
       "326  0.30347   0.0   7.38     0  0.493  6.312  28.9  5.4159    5  287   \n",
       "\n",
       "     PITRATIO       B  LSTAT  MEDV         TRM  \n",
       "254      16.4  392.89   6.57  21.9   51.571709  \n",
       "348      17.0  390.94   5.99  24.5   42.200452  \n",
       "476      20.2  396.21  18.68  16.7  102.714374  \n",
       "321      19.6  396.90   6.87  23.1   45.012547  \n",
       "326      19.6  396.90   6.15  23.0   45.468948  "
      ]
     },
     "execution_count": 35,
     "metadata": {},
     "output_type": "execute_result"
    }
   ],
   "source": [
    "housing.head()"
   ]
  },
  {
   "cell_type": "code",
   "execution_count": 36,
   "id": "28818abf",
   "metadata": {},
   "outputs": [
    {
     "data": {
      "text/plain": [
       "MEDV        1.000000\n",
       "RM          0.679894\n",
       "B           0.361761\n",
       "ZN          0.339741\n",
       "DIS         0.240451\n",
       "CHAS        0.205066\n",
       "AGE        -0.364596\n",
       "RAD        -0.374693\n",
       "CRIM       -0.393715\n",
       "NOX        -0.422873\n",
       "TAX        -0.456657\n",
       "INDUS      -0.473516\n",
       "PITRATIO   -0.493534\n",
       "TRM        -0.525160\n",
       "LSTAT      -0.740494\n",
       "Name: MEDV, dtype: float64"
      ]
     },
     "execution_count": 36,
     "metadata": {},
     "output_type": "execute_result"
    }
   ],
   "source": [
    "corr_matrix=housing.corr()\n",
    "corr_matrix['MEDV'].sort_values(ascending=False)    "
   ]
  },
  {
   "cell_type": "code",
   "execution_count": 37,
   "id": "65dcdb29",
   "metadata": {},
   "outputs": [],
   "source": [
    "# WE CAN SEE MEDV HAS VERY HIGHLY NEGATIVE CORRELATION OF TAX RM.....TRM."
   ]
  },
  {
   "cell_type": "code",
   "execution_count": 38,
   "id": "0279a87c",
   "metadata": {},
   "outputs": [
    {
     "data": {
      "text/plain": [
       "<AxesSubplot:xlabel='TRM', ylabel='MEDV'>"
      ]
     },
     "execution_count": 38,
     "metadata": {},
     "output_type": "execute_result"
    },
    {
     "data": {
      "image/png": "[encoded data removed]",
      "text/plain": [
       "<Figure size 432x288 with 1 Axes>"
      ]
     },
     "metadata": {
      "needs_background": "light"
     },
     "output_type": "display_data"
    }
   ],
   "source": [
    "housing.plot(kind='scatter',x='TRM',y='MEDV',alpha=0.8)"
   ]
  },
  {
   "cell_type": "code",
   "execution_count": 39,
   "id": "581f32eb",
   "metadata": {},
   "outputs": [],
   "source": [
    "housing=strat_train_set.drop(\"MEDV\",axis=1)            #features \n",
    "housing_labels=strat_train_set[\"MEDV\"].copy()          # label/target for us is price MEDV."
   ]
  },
  {
   "cell_type": "markdown",
   "id": "fd03edf6",
   "metadata": {},
   "source": [
    "# SELECTING A DESIRED MODEL FOR PREDICITON OF PRICE."
   ]
  },
  {
   "cell_type": "markdown",
   "id": "e4d0daa6",
   "metadata": {},
   "source": [
    "# 1. LINEAR REGRESSION"
   ]
  },
  {
   "cell_type": "code",
   "execution_count": 40,
   "id": "01afa090",
   "metadata": {},
   "outputs": [
    {
     "data": {
      "text/plain": [
       "LinearRegression()"
      ]
     },
     "execution_count": 40,
     "metadata": {},
     "output_type": "execute_result"
    }
   ],
   "source": [
    "from sklearn.linear_model import LinearRegression\n",
    "model=LinearRegression()\n",
    "model.fit(housing,housing_labels)     "
   ]
  },
  {
   "cell_type": "code",
   "execution_count": 41,
   "id": "4339b87d",
   "metadata": {},
   "outputs": [
    {
     "data": {
      "text/plain": [
       "array([23.94996893, 27.21690623, 20.58079789, 25.04088721, 23.76177838])"
      ]
     },
     "execution_count": 41,
     "metadata": {},
     "output_type": "execute_result"
    }
   ],
   "source": [
    "some_data=housing.iloc[0:5]\n",
    "some_labels=housing_labels.iloc[:5]\n",
    "prepared_data=some_data\n",
    "model.predict(prepared_data) "
   ]
  },
  {
   "cell_type": "code",
   "execution_count": 42,
   "id": "f2ed1310",
   "metadata": {},
   "outputs": [
    {
     "data": {
      "text/plain": [
       "[21.9, 24.5, 16.7, 23.1, 23.0]"
      ]
     },
     "execution_count": 42,
     "metadata": {},
     "output_type": "execute_result"
    }
   ],
   "source": [
    "list(some_labels) "
   ]
  },
  {
   "cell_type": "code",
   "execution_count": 43,
   "id": "16b28451",
   "metadata": {},
   "outputs": [],
   "source": [
    "#Evaluating the model\n",
    "from sklearn.metrics import mean_squared_error\n",
    "housing_predicitons = model.predict(housing)\n",
    "lin_mse=mean_squared_error(housing_labels,housing_predicitons)\n",
    "lin_rmse= np.sqrt(lin_mse)"
   ]
  },
  {
   "cell_type": "code",
   "execution_count": 44,
   "id": "50ed90ad",
   "metadata": {},
   "outputs": [
    {
     "data": {
      "text/plain": [
       "4.829321492635759"
      ]
     },
     "execution_count": 44,
     "metadata": {},
     "output_type": "execute_result"
    }
   ],
   "source": [
    "lin_rmse    # getting high error with it....not acceptable...."
   ]
  },
  {
   "cell_type": "code",
   "execution_count": 45,
   "id": "879cd913",
   "metadata": {},
   "outputs": [],
   "source": [
    "#USING CROSS VALIDATION..\n",
    "\n",
    "from sklearn.model_selection import cross_val_score\n",
    "scores=cross_val_score(model,housing, housing_labels,scoring=\"neg_mean_squared_error\",cv=10)\n",
    "rmse_scores=np.sqrt(-scores)"
   ]
  },
  {
   "cell_type": "code",
   "execution_count": 46,
   "id": "3c297dab",
   "metadata": {},
   "outputs": [
    {
     "data": {
      "text/plain": [
       "array([4.21674442, 4.26026816, 5.1071608 , 3.82881892, 5.34093789,\n",
       "       4.3785611 , 7.47384779, 5.48226252, 4.14885722, 6.0669122 ])"
      ]
     },
     "execution_count": 46,
     "metadata": {},
     "output_type": "execute_result"
    }
   ],
   "source": [
    "rmse_scores         "
   ]
  },
  {
   "cell_type": "code",
   "execution_count": 47,
   "id": "1eed8d85",
   "metadata": {},
   "outputs": [],
   "source": [
    "# USING THESE SCORES ,WE FIND MEAN, SD, WE CREATE A FUNCTION FOR IT.\n",
    "\n",
    "def print_scores(scores):\n",
    "    print(\"Scores\",scores)\n",
    "    print(\"Mean\",scores.mean())\n",
    "    print(\"Standard Deviation\",scores.std())\n",
    "    "
   ]
  },
  {
   "cell_type": "code",
   "execution_count": 48,
   "id": "a914cb04",
   "metadata": {},
   "outputs": [
    {
     "name": "stdout",
     "output_type": "stream",
     "text": [
      "Scores [4.21674442 4.26026816 5.1071608  3.82881892 5.34093789 4.3785611\n",
      " 7.47384779 5.48226252 4.14885722 6.0669122 ]\n",
      "Mean 5.030437102767304\n",
      "Standard Deviation 1.060766115829481\n"
     ]
    }
   ],
   "source": [
    "print_scores(rmse_scores)"
   ]
  },
  {
   "cell_type": "markdown",
   "id": "55093bed",
   "metadata": {},
   "source": [
    "# 2. DECISION TREE"
   ]
  },
  {
   "cell_type": "code",
   "execution_count": 49,
   "id": "c0ba3830",
   "metadata": {},
   "outputs": [
    {
     "data": {
      "text/plain": [
       "DecisionTreeRegressor()"
      ]
     },
     "execution_count": 49,
     "metadata": {},
     "output_type": "execute_result"
    }
   ],
   "source": [
    "from sklearn.tree import DecisionTreeRegressor\n",
    "model=DecisionTreeRegressor()\n",
    "model.fit(housing,housing_labels)   "
   ]
  },
  {
   "cell_type": "code",
   "execution_count": 50,
   "id": "1f19dbd0",
   "metadata": {},
   "outputs": [
    {
     "data": {
      "text/plain": [
       "array([21.9, 24.5, 16.7, 23.1, 23. ])"
      ]
     },
     "execution_count": 50,
     "metadata": {},
     "output_type": "execute_result"
    }
   ],
   "source": [
    "some_data=housing.iloc[0:5]\n",
    "some_labels=housing_labels.iloc[:5]\n",
    "prepared_data=some_data\n",
    "model.predict(prepared_data) "
   ]
  },
  {
   "cell_type": "code",
   "execution_count": 51,
   "id": "62cff158",
   "metadata": {},
   "outputs": [
    {
     "data": {
      "text/plain": [
       "[21.9, 24.5, 16.7, 23.1, 23.0]"
      ]
     },
     "execution_count": 51,
     "metadata": {},
     "output_type": "execute_result"
    }
   ],
   "source": [
    "list(some_labels)    # This is over fitting as we are getting predicted and actual values same...so to overcome this \n",
    "                     # we gonna use cross validation...\n"
   ]
  },
  {
   "cell_type": "code",
   "execution_count": 52,
   "id": "6dc629d0",
   "metadata": {},
   "outputs": [],
   "source": [
    "#Evaluating the model\n",
    "from sklearn.metrics import mean_squared_error\n",
    "housing_predicitons = model.predict(housing)\n",
    "lin_mse=mean_squared_error(housing_labels,housing_predicitons)\n",
    "lin_rmse= np.sqrt(lin_mse)"
   ]
  },
  {
   "cell_type": "code",
   "execution_count": 53,
   "id": "0508d3c1",
   "metadata": {},
   "outputs": [
    {
     "data": {
      "text/plain": [
       "0.0"
      ]
     },
     "execution_count": 53,
     "metadata": {},
     "output_type": "execute_result"
    }
   ],
   "source": [
    "lin_rmse  # this is overfitting ...we need to get rid of it...use cross validation"
   ]
  },
  {
   "cell_type": "code",
   "execution_count": 54,
   "id": "92793a16",
   "metadata": {},
   "outputs": [],
   "source": [
    "#USING CROSS VALIDATION..\n",
    "\n",
    "from sklearn.model_selection import cross_val_score\n",
    "scores=cross_val_score(model,housing, housing_labels,scoring=\"neg_mean_squared_error\",cv=10)\n",
    "rmse_scores=np.sqrt(-scores)"
   ]
  },
  {
   "cell_type": "code",
   "execution_count": 55,
   "id": "f9378816",
   "metadata": {},
   "outputs": [
    {
     "data": {
      "text/plain": [
       "array([3.96102968, 5.59607877, 5.50841928, 3.91498061, 4.03227603,\n",
       "       3.03521004, 6.88418477, 3.77657252, 3.29814342, 3.87579024])"
      ]
     },
     "execution_count": 55,
     "metadata": {},
     "output_type": "execute_result"
    }
   ],
   "source": [
    "rmse_scores"
   ]
  },
  {
   "cell_type": "code",
   "execution_count": 56,
   "id": "e593ff74",
   "metadata": {},
   "outputs": [],
   "source": [
    "# USING THESE SCORES ,WE FIND MEAN, SD, WE CREATE A FUNCTION FOR IT.\n",
    "\n",
    "def print_scores(scores):\n",
    "    print(\"Scores\",scores)\n",
    "    print(\"Mean\",scores.mean())\n",
    "    print(\"Standard Deviation\",scores.std())"
   ]
  },
  {
   "cell_type": "code",
   "execution_count": 57,
   "id": "69a0b5b6",
   "metadata": {},
   "outputs": [
    {
     "name": "stdout",
     "output_type": "stream",
     "text": [
      "Scores [3.96102968 5.59607877 5.50841928 3.91498061 4.03227603 3.03521004\n",
      " 6.88418477 3.77657252 3.29814342 3.87579024]\n",
      "Mean 4.3882685356262625\n",
      "Standard Deviation 1.1459647616058237\n"
     ]
    }
   ],
   "source": [
    "print_scores(rmse_scores)"
   ]
  },
  {
   "cell_type": "markdown",
   "id": "99c07f83",
   "metadata": {},
   "source": [
    "# 3. RANDOM FOREST REGRESSOR"
   ]
  },
  {
   "cell_type": "code",
   "execution_count": 58,
   "id": "a5dbeade",
   "metadata": {},
   "outputs": [
    {
     "data": {
      "text/plain": [
       "RandomForestRegressor()"
      ]
     },
     "execution_count": 58,
     "metadata": {},
     "output_type": "execute_result"
    }
   ],
   "source": [
    "from sklearn.ensemble import RandomForestRegressor\n",
    "model=RandomForestRegressor()\n",
    "model.fit(housing,housing_labels) "
   ]
  },
  {
   "cell_type": "code",
   "execution_count": 59,
   "id": "abcf5c03",
   "metadata": {},
   "outputs": [
    {
     "data": {
      "text/plain": [
       "array([22.4  , 25.391, 16.59 , 23.537, 23.754])"
      ]
     },
     "execution_count": 59,
     "metadata": {},
     "output_type": "execute_result"
    }
   ],
   "source": [
    "some_data=housing.iloc[0:5]\n",
    "some_labels=housing_labels.iloc[:5]\n",
    "prepared_data=some_data\n",
    "model.predict(prepared_data) "
   ]
  },
  {
   "cell_type": "code",
   "execution_count": 60,
   "id": "7f4d603b",
   "metadata": {},
   "outputs": [
    {
     "data": {
      "text/plain": [
       "[21.9, 24.5, 16.7, 23.1, 23.0]"
      ]
     },
     "execution_count": 60,
     "metadata": {},
     "output_type": "execute_result"
    }
   ],
   "source": [
    "list(some_labels)    # This is over fitting as we are getting predicted and actual values same...so to overcome this \n",
    "                     # we gonna use cross validation...\n"
   ]
  },
  {
   "cell_type": "code",
   "execution_count": 61,
   "id": "5d8906bf",
   "metadata": {},
   "outputs": [],
   "source": [
    "#Evaluating the model\n",
    "from sklearn.metrics import mean_squared_error\n",
    "housing_predicitons = model.predict(housing)\n",
    "lin_mse=mean_squared_error(housing_labels,housing_predicitons)\n",
    "lin_rmse= np.sqrt(lin_mse)"
   ]
  },
  {
   "cell_type": "code",
   "execution_count": 62,
   "id": "fc8a77e3",
   "metadata": {},
   "outputs": [
    {
     "data": {
      "text/plain": [
       "1.152192880193379"
      ]
     },
     "execution_count": 62,
     "metadata": {},
     "output_type": "execute_result"
    }
   ],
   "source": [
    "lin_rmse"
   ]
  },
  {
   "cell_type": "code",
   "execution_count": 63,
   "id": "ffa8107e",
   "metadata": {},
   "outputs": [],
   "source": [
    "#USING CROSS VALIDATION..\n",
    "\n",
    "from sklearn.model_selection import cross_val_score\n",
    "scores=cross_val_score(model,housing, housing_labels,scoring=\"neg_mean_squared_error\",cv=10)\n",
    "rmse_scores=np.sqrt(-scores)"
   ]
  },
  {
   "cell_type": "code",
   "execution_count": 64,
   "id": "5f390865",
   "metadata": {},
   "outputs": [
    {
     "data": {
      "text/plain": [
       "array([2.91474292, 2.60525197, 4.49170799, 2.7069737 , 3.43931086,\n",
       "       2.51450303, 4.66245407, 3.33093859, 2.92840779, 3.1964918 ])"
      ]
     },
     "execution_count": 64,
     "metadata": {},
     "output_type": "execute_result"
    }
   ],
   "source": [
    "rmse_scores"
   ]
  },
  {
   "cell_type": "code",
   "execution_count": 65,
   "id": "3099d707",
   "metadata": {},
   "outputs": [],
   "source": [
    "# USING THESE SCORES ,WE FIND MEAN, SD, WE CREATE A FUNCTION FOR IT.\n",
    "\n",
    "def print_scores(scores):\n",
    "    print(\"Scores\",scores)\n",
    "    print(\"Mean\",scores.mean())\n",
    "    print(\"Standard Deviation\",scores.std())"
   ]
  },
  {
   "cell_type": "code",
   "execution_count": 66,
   "id": "69ff40ae",
   "metadata": {},
   "outputs": [
    {
     "name": "stdout",
     "output_type": "stream",
     "text": [
      "Scores [2.91474292 2.60525197 4.49170799 2.7069737  3.43931086 2.51450303\n",
      " 4.66245407 3.33093859 2.92840779 3.1964918 ]\n",
      "Mean 3.2790782712058424\n",
      "Standard Deviation 0.7100010425281535\n"
     ]
    }
   ],
   "source": [
    "print_scores(rmse_scores)"
   ]
  },
  {
   "cell_type": "code",
   "execution_count": 67,
   "id": "5387a689",
   "metadata": {},
   "outputs": [],
   "source": [
    "# Random forest gives lin_rmse less and also in cross validation it gives less error...\n",
    "#so we gonna opt random forest most probably."
   ]
  },
  {
   "cell_type": "code",
   "execution_count": 181,
   "id": "f2c6f8f3",
   "metadata": {},
   "outputs": [],
   "source": [
    "# OUTPUT FROM DIFFERENT MODELS.\n",
    "# 1.LINEAR REGRESSION:\n",
    "#             Mean :  5.030437102767304\n",
    " #           Standard Deviation :1.060766115829481  \n",
    "\n",
    "\n",
    "# 2.DECISION TREE MODEL:\n",
    "#             Mean :   4.214246929989794  \n",
    "#             Standard Deviation : 1.1459647616058237 \n",
    "\n",
    "# 3.RANDOM FOREST REGRESSION:\n",
    "#             Mean :   3.3684451255436514\n",
    "#             Standard Deviation: 0.7252786049924188\n"
   ]
  },
  {
   "cell_type": "code",
   "execution_count": 69,
   "id": "de7fc3a5",
   "metadata": {},
   "outputs": [],
   "source": [
    "# ON COMPRAING WE GET AN INSIGHT THAT, RANDOM FOREST WORKS THE BEST.....SO WE NOW SAVE THE MODEL FOR...ORIGINAL.BOSTON.joblib."
   ]
  },
  {
   "cell_type": "markdown",
   "id": "ed21c85c",
   "metadata": {},
   "source": [
    "# SAVING THE MODEL IN A FILE."
   ]
  },
  {
   "cell_type": "code",
   "execution_count": 70,
   "id": "099d31e0",
   "metadata": {},
   "outputs": [
    {
     "data": {
      "text/plain": [
       "['Original_Boston.joblib']"
      ]
     },
     "execution_count": 70,
     "metadata": {},
     "output_type": "execute_result"
    }
   ],
   "source": [
    "from joblib import dump,load\n",
    "dump(model, \"Original_Boston.joblib\")"
   ]
  },
  {
   "cell_type": "code",
   "execution_count": 71,
   "id": "a2253206",
   "metadata": {},
   "outputs": [],
   "source": [
    "#Testing the data ,by applying model"
   ]
  },
  {
   "cell_type": "code",
   "execution_count": 72,
   "id": "ac135127",
   "metadata": {},
   "outputs": [],
   "source": [
    "# split into feature and label.\n",
    "x1_test=strat_test_set.drop(\"MEDV\",axis=1)\n",
    "y1_test=strat_test_set[\"MEDV\"].copy()"
   ]
  },
  {
   "cell_type": "code",
   "execution_count": 73,
   "id": "bc7e94b4",
   "metadata": {},
   "outputs": [],
   "source": [
    "x1_test_prepared=x1_test"
   ]
  },
  {
   "cell_type": "code",
   "execution_count": 74,
   "id": "030f40d9",
   "metadata": {},
   "outputs": [],
   "source": [
    "final_prediction1=model.predict(x1_test_prepared)"
   ]
  },
  {
   "cell_type": "code",
   "execution_count": 75,
   "id": "8f98c881",
   "metadata": {},
   "outputs": [],
   "source": [
    "final_mse=mean_squared_error(final_prediction1,y1_test)"
   ]
  },
  {
   "cell_type": "code",
   "execution_count": 76,
   "id": "803ba41f",
   "metadata": {},
   "outputs": [],
   "source": [
    "final_rmse1=np.sqrt(final_mse)"
   ]
  },
  {
   "cell_type": "code",
   "execution_count": 77,
   "id": "fbdb875e",
   "metadata": {},
   "outputs": [
    {
     "data": {
      "text/plain": [
       "2.957619848233822"
      ]
     },
     "execution_count": 77,
     "metadata": {},
     "output_type": "execute_result"
    }
   ],
   "source": [
    "final_rmse1"
   ]
  },
  {
   "cell_type": "code",
   "execution_count": 78,
   "id": "3507b056",
   "metadata": {},
   "outputs": [
    {
     "name": "stdout",
     "output_type": "stream",
     "text": [
      "final_prediction for original dataset of boston housing:\n",
      " [24.644999999999996, 11.783000000000001, 25.421000000000014, 21.503000000000007, 17.993999999999986, 14.931999999999992, 19.898000000000003, 14.723000000000003, 32.101, 42.225000000000016, 19.460000000000004, 11.540999999999995, 23.791999999999998, 28.518999999999995, 19.546000000000003, 11.186999999999998, 31.607, 14.173, 23.755999999999986, 18.664999999999996, 19.959999999999983, 17.951000000000004, 17.93, 21.934999999999995, 18.189999999999998, 31.241000000000007, 15.698000000000004, 32.245999999999995, 8.463999999999999, 33.400999999999996, 24.00799999999999, 21.478000000000005, 22.77799999999999, 10.955999999999994, 20.324999999999985, 11.20299999999999, 43.66800000000003, 24.45899999999999, 23.38600000000001, 41.14800000000003, 24.13500000000001, 30.043000000000006, 20.462000000000007, 20.760000000000005, 19.661999999999992, 33.123999999999995, 44.934000000000054, 20.073999999999995, 20.212999999999994, 21.826999999999998, 21.318, 14.872999999999992, 21.377000000000006, 15.198999999999996, 25.29200000000001, 33.20999999999998, 42.193000000000005, 28.457999999999988, 19.32400000000001, 20.775, 47.16600000000003, 9.715, 18.928999999999988, 25.63, 14.556999999999992, 33.616, 19.564999999999998, 18.270999999999997, 19.189, 33.910000000000025, 26.105000000000004, 22.900999999999986, 21.59399999999999, 22.498999999999995, 34.369000000000014, 12.548999999999994, 15.871999999999993, 19.973999999999993, 20.518999999999988, 21.535, 22.412000000000006, 21.03099999999999, 14.290000000000003, 22.929999999999993, 21.002, 21.42700000000001, 14.176999999999998, 21.314999999999994, 21.961000000000002, 23.441000000000003, 18.476, 27.239000000000004, 6.895, 26.423000000000005, 18.852999999999994, 29.21799999999999, 19.710999999999988, 31.79199999999997, 14.339999999999998, 26.949, 21.649, 20.517999999999986]\n",
      "\n",
      "----------------------------------------------------------------------------------------------------------\n",
      "Y_test Values Actual 20% MEDV values:\n",
      " [16.5, 10.2, 30.1, 23.0, 14.4, 15.6, 19.4, 14.1, 30.3, 35.2, 23.1, 13.8, 25.0, 27.9, 19.5, 12.3, 32.2, 13.5, 23.8, 21.7, 19.2, 19.5, 10.4, 23.2, 18.6, 28.5, 15.2, 32.0, 7.2, 34.6, 20.1, 20.6, 23.6, 13.1, 23.8, 12.7, 43.1, 24.7, 22.2, 44.0, 28.1, 31.0, 21.7, 23.4, 19.5, 33.1, 41.7, 18.7, 19.9, 20.6, 21.2, 13.6, 20.3, 17.8, 27.1, 31.5, 50.0, 29.1, 18.9, 20.4, 50.0, 7.2, 17.2, 36.2, 14.6, 33.2, 23.8, 19.9, 21.5, 37.3, 27.0, 22.0, 24.3, 19.8, 33.3, 7.0, 19.4, 20.9, 21.1, 20.4, 22.2, 11.9, 11.7, 21.6, 19.7, 23.0, 16.7, 21.7, 20.6, 23.3, 19.6, 28.0, 5.0, 24.4, 20.8, 24.8, 21.8, 23.6, 19.0, 25.0, 20.3, 21.5]\n"
     ]
    }
   ],
   "source": [
    "print(\"final_prediction for original dataset of boston housing:\\n\",list(final_prediction1))\n",
    "print(\"\\n----------------------------------------------------------------------------------------------------------\")\n",
    "print(\"Y_test Values Actual 20% MEDV values:\\n\",list(y1_test))\n"
   ]
  },
  {
   "cell_type": "code",
   "execution_count": 79,
   "id": "1b726c97",
   "metadata": {},
   "outputs": [
    {
     "data": {
      "text/plain": [
       "(102,)"
      ]
     },
     "execution_count": 79,
     "metadata": {},
     "output_type": "execute_result"
    }
   ],
   "source": [
    "final_prediction1.shape"
   ]
  },
  {
   "cell_type": "code",
   "execution_count": 80,
   "id": "4815d910",
   "metadata": {},
   "outputs": [
    {
     "data": {
      "text/plain": [
       "(102,)"
      ]
     },
     "execution_count": 80,
     "metadata": {},
     "output_type": "execute_result"
    }
   ],
   "source": [
    "y1_test.shape"
   ]
  },
  {
   "cell_type": "code",
   "execution_count": 81,
   "id": "bf4c7e71",
   "metadata": {},
   "outputs": [],
   "source": [
    "\n",
    "# WE HAVE SAVED THE MODEL IN FILE...['Original_Boston.joblib']..\n",
    "# AND IN NEW JUPYTER NOTEBOOK NAME MODEL USAGE....AND DO FURTHER PROCESS IN IT."
   ]
  },
  {
   "cell_type": "markdown",
   "id": "697bb110",
   "metadata": {},
   "source": [
    "# --------------------------------------------------------------------------------------------------------------"
   ]
  },
  {
   "cell_type": "markdown",
   "id": "de0316ff",
   "metadata": {},
   "source": [
    "# NOW FOR ANOTHER CASE....WHEN VALUES ARE MISSING....STEPS ARE AS BELOW..."
   ]
  },
  {
   "cell_type": "markdown",
   "id": "a70cd71e",
   "metadata": {},
   "source": [
    "# ---------------------------------------------------------------------------------------------------------------"
   ]
  },
  {
   "cell_type": "markdown",
   "id": "c79d3f91",
   "metadata": {},
   "source": [
    "# MISSING ATTRIBUTES"
   ]
  },
  {
   "cell_type": "code",
   "execution_count": 82,
   "id": "b09c5ceb",
   "metadata": {},
   "outputs": [],
   "source": [
    "#IMPORT NECESSARY LIBRARIES IF NOT IMPORTED."
   ]
  },
  {
   "cell_type": "code",
   "execution_count": 83,
   "id": "730224ef",
   "metadata": {},
   "outputs": [],
   "source": [
    "# TILL NOW OUR DATASET HAS NO NAN VALUES WE FOUND....BUT AS IF THERE ARE SOME NULL VALUES ARE THERE IN OUR DATASET...THAN WHAT \n",
    "#MUST BE THE APPROACH TO FIX IT...LETS SEE..\n",
    "\n",
    "\n",
    "#housing the original  dataset...\n",
    "\n",
    "#TO TAKE CARE OF MISSING ATTRIBUTES,YOU HAVE THREE OPTIONS...\n",
    "#  1. GET RID OF THE MISSING DATA POINTS.\n",
    "#  2. GET RID OF THE WHOLE ATTRIBUTE.\n",
    "#  3. GET THE VALUE TO SOME VALUE (0,mean or median)\n",
    "\n",
    "\n",
    "\n",
    "# OPTIONS 1:\n",
    "\n",
    "#  a=housing.dropna(subset=[\"RM\"])    # This statement won't change the original housing dataset until,we write ,Inplace=\"True\".\n",
    "#  a.shape     O/D : (501,15)     if 4 data where missing from RM column.\n",
    "\n",
    "\n",
    "#OPTION 2:\n",
    "\n",
    "# housing.drop(\"RM\",axis=1)\n",
    "# housing.drop(\"RM\",axis=1).shape\n",
    "\n",
    "\n",
    "#OPTION 3:\n",
    "\n",
    "# median=housing[\"RM\"].median()\n",
    "# median          O/D : 6.027\n",
    "# housing[\"RM\"].fillna(median)    O/D : RM will have 505 filled cells.\n",
    "\n",
    "#housing.shape      O/D: (505,15)\n",
    "#-----------------------------------------------------------------------------------------------------------------------------#\n",
    "\n",
    "\n",
    "\n",
    "# NOTE: THIS TASK SEEMS SO TEDIOUS TO DO FOR EACH COLUMN....SO Sklearn HAVE A CLASS NAME IMPUTER..\n",
    "# IMPUTER GONNA FILL ALL THE EMPTY CELLS IN RESPECTIVE COLUMN ACCORDING TO THE GIVEN MODE....MEDIAN IF GIVEN ...IT WILL \n",
    "# FILL THE RESPECTIVE MEDIAN TO EACH COLUMN....\n",
    "\n",
    "\n",
    "\n",
    "# from sklearn.impute import SimpleImputer\n",
    "# imputer=SimpleImputer(strategy=\"median\")\n",
    "# imputer.fit(housing)\n",
    "# we will ask the imputer to show all the median of each column,in housing and will look it by statistics_\n",
    "# imputer.statistics_                          To confirm we have median of all columns\n",
    "# imputer.statistics_.shape\n",
    "\n",
    "#NOTE: SO WE WILL MAKE OUR PIPELINE AUTOMATE IN SUCH A WAY,IF THERE IS ANY MISSING VALUE THEN THAT WILL BE FILLED UP BY THAT\n",
    "#      MEDIAN.\n",
    "\n",
    "# X=imputer.transform(housing)\n",
    "# housing_tr=pd.DataFrame(X,columns=housing.columns)\n",
    "\n",
    "# housing_tr.describe()\n"
   ]
  },
  {
   "cell_type": "markdown",
   "id": "84bbeb45",
   "metadata": {},
   "source": [
    "# CREATING A PIPELINE..............................when missing attributes...and have performed the above."
   ]
  },
  {
   "cell_type": "code",
   "execution_count": 84,
   "id": "9921b35a",
   "metadata": {},
   "outputs": [],
   "source": [
    "#from sklearn.pipeline import Pipeline"
   ]
  },
  {
   "cell_type": "code",
   "execution_count": 85,
   "id": "505ae689",
   "metadata": {},
   "outputs": [],
   "source": [
    "# FEATURE SCALING:\n",
    "\n",
    "#What is meant by feature scaling?\n",
    "# ANS: Feature Scaling is a technique to standardize the independent features present in the data in a fixed range. \n",
    "# It is performed during the data pre-processing to handle highly varying magnitudes or values or units.\n",
    "# Feature scaling is essential for machine learning algorithms that calculate distances between data. ... \n",
    "# Therefore, the range of all features should be normalized so that each feature contributes approximately proportionately \n",
    "# to the final distance.\n",
    "\n",
    "#-------------------------------------------------------------------------------------------------------------------------------\n",
    "#TWO OF THE FEATURE SCALING METHODS:\n",
    "# 1. NORMALIZATION:\n",
    "#    (min-max)/(max-min)------> values comes into 0 to 1.\n",
    "#  sklearn provides a class called MinMaxScaler for this.\n",
    "\n",
    "\n",
    "# 2. Standardization\n",
    "#    (value-mean)/std..... ie. Standardized value = X – μ / σ\n",
    "#  sklearn provides a class called Standard Scaler for this.\n",
    "#-------------------------------------------------------------------------------------------------------------------------------\n",
    "\n",
    "#✨ STANDARDIZATION WILL WORK EXCELLENT...BECAUSE AS IF WE FORGETTEN TO INCLUDE SOME VALUE THEN THAT GONNA CHANGE OR EFFECT \n",
    "# MIN/MAX VALUE,SO OPTION 1 WILL BE AFFECTED.\n",
    "\n",
    "#WHEREAS, Z=X – μ / σ , THIS INCLUDES μ , σ , X  WON'T GET AFFECTED DRASTICALLY,SO BECAUSE OF THAT ,ITS GOOD TO OPT 2 OVER 1.\n",
    "\n",
    "\n",
    "# THEREFORE WE WILL USE STANDARD SCALER."
   ]
  },
  {
   "cell_type": "code",
   "execution_count": 86,
   "id": "22765cd0",
   "metadata": {},
   "outputs": [],
   "source": [
    "#from sklearn.preprocessing import StandardScaler\n",
    "#my_pipeline=Pipeline([(imputer,SimpleImputer(strategy=\"median\")),(\"std_scaler\",StandardScaler())])\n",
    "# housing_num_tr=my_pipeline.fit_transform(housing_tr)\n",
    "# housing_num_tr     # rhis came to be a numpy array"
   ]
  },
  {
   "cell_type": "markdown",
   "id": "8cfbd47d",
   "metadata": {},
   "source": [
    "# LETS PERFORM....ABOVE STEPS FOR SAME DATASET BUT HAVING SOME MISSING VALUES."
   ]
  },
  {
   "cell_type": "code",
   "execution_count": 87,
   "id": "e0ba704b",
   "metadata": {},
   "outputs": [],
   "source": [
    "hou=pd.read_csv(\"housing_mv.csv\")"
   ]
  },
  {
   "cell_type": "code",
   "execution_count": 88,
   "id": "66caf63a",
   "metadata": {},
   "outputs": [
    {
     "data": {
      "text/html": [
       "<div>\n",
       "<style scoped>\n",
       "    .dataframe tbody tr th:only-of-type {\n",
       "        vertical-align: middle;\n",
       "    }\n",
       "\n",
       "    .dataframe tbody tr th {\n",
       "        vertical-align: top;\n",
       "    }\n",
       "\n",
       "    .dataframe thead th {\n",
       "        text-align: right;\n",
       "    }\n",
       "</style>\n",
       "<table border=\"1\" class=\"dataframe\">\n",
       "  <thead>\n",
       "    <tr style=\"text-align: right;\">\n",
       "      <th></th>\n",
       "      <th>CRIM</th>\n",
       "      <th>ZN</th>\n",
       "      <th>INDUS</th>\n",
       "      <th>CHAS</th>\n",
       "      <th>NOX</th>\n",
       "      <th>RM</th>\n",
       "      <th>AGE</th>\n",
       "      <th>DIS</th>\n",
       "      <th>RAD</th>\n",
       "      <th>TAX</th>\n",
       "      <th>PITRATIO</th>\n",
       "      <th>B</th>\n",
       "      <th>LSTAT</th>\n",
       "      <th>MEDV</th>\n",
       "    </tr>\n",
       "  </thead>\n",
       "  <tbody>\n",
       "    <tr>\n",
       "      <th>0</th>\n",
       "      <td>0.00632</td>\n",
       "      <td>18.0</td>\n",
       "      <td>2.31</td>\n",
       "      <td>0.0</td>\n",
       "      <td>0.538</td>\n",
       "      <td>6.575</td>\n",
       "      <td>65.2</td>\n",
       "      <td>4.0900</td>\n",
       "      <td>1.0</td>\n",
       "      <td>296</td>\n",
       "      <td>15.3</td>\n",
       "      <td>396.90</td>\n",
       "      <td>4.98</td>\n",
       "      <td>24.0</td>\n",
       "    </tr>\n",
       "    <tr>\n",
       "      <th>1</th>\n",
       "      <td>0.02731</td>\n",
       "      <td>0.0</td>\n",
       "      <td>7.07</td>\n",
       "      <td>0.0</td>\n",
       "      <td>0.469</td>\n",
       "      <td>6.421</td>\n",
       "      <td>78.9</td>\n",
       "      <td>4.9671</td>\n",
       "      <td>2.0</td>\n",
       "      <td>242</td>\n",
       "      <td>17.8</td>\n",
       "      <td>396.90</td>\n",
       "      <td>9.14</td>\n",
       "      <td>21.6</td>\n",
       "    </tr>\n",
       "    <tr>\n",
       "      <th>2</th>\n",
       "      <td>0.02729</td>\n",
       "      <td>0.0</td>\n",
       "      <td>7.07</td>\n",
       "      <td>0.0</td>\n",
       "      <td>0.469</td>\n",
       "      <td>7.185</td>\n",
       "      <td>61.1</td>\n",
       "      <td>4.9671</td>\n",
       "      <td>2.0</td>\n",
       "      <td>242</td>\n",
       "      <td>17.8</td>\n",
       "      <td>392.83</td>\n",
       "      <td>4.03</td>\n",
       "      <td>34.7</td>\n",
       "    </tr>\n",
       "    <tr>\n",
       "      <th>3</th>\n",
       "      <td>0.03237</td>\n",
       "      <td>0.0</td>\n",
       "      <td>2.18</td>\n",
       "      <td>0.0</td>\n",
       "      <td>0.458</td>\n",
       "      <td>NaN</td>\n",
       "      <td>45.8</td>\n",
       "      <td>6.0622</td>\n",
       "      <td>3.0</td>\n",
       "      <td>222</td>\n",
       "      <td>18.7</td>\n",
       "      <td>394.63</td>\n",
       "      <td>2.94</td>\n",
       "      <td>33.4</td>\n",
       "    </tr>\n",
       "    <tr>\n",
       "      <th>4</th>\n",
       "      <td>0.06905</td>\n",
       "      <td>0.0</td>\n",
       "      <td>2.18</td>\n",
       "      <td>0.0</td>\n",
       "      <td>0.458</td>\n",
       "      <td>7.147</td>\n",
       "      <td>54.2</td>\n",
       "      <td>6.0622</td>\n",
       "      <td>3.0</td>\n",
       "      <td>222</td>\n",
       "      <td>18.7</td>\n",
       "      <td>396.90</td>\n",
       "      <td>5.33</td>\n",
       "      <td>36.2</td>\n",
       "    </tr>\n",
       "  </tbody>\n",
       "</table>\n",
       "</div>"
      ],
      "text/plain": [
       "      CRIM    ZN  INDUS  CHAS    NOX     RM   AGE     DIS  RAD  TAX  PITRATIO  \\\n",
       "0  0.00632  18.0   2.31   0.0  0.538  6.575  65.2  4.0900  1.0  296      15.3   \n",
       "1  0.02731   0.0   7.07   0.0  0.469  6.421  78.9  4.9671  2.0  242      17.8   \n",
       "2  0.02729   0.0   7.07   0.0  0.469  7.185  61.1  4.9671  2.0  242      17.8   \n",
       "3  0.03237   0.0   2.18   0.0  0.458    NaN  45.8  6.0622  3.0  222      18.7   \n",
       "4  0.06905   0.0   2.18   0.0  0.458  7.147  54.2  6.0622  3.0  222      18.7   \n",
       "\n",
       "        B  LSTAT  MEDV  \n",
       "0  396.90   4.98  24.0  \n",
       "1  396.90   9.14  21.6  \n",
       "2  392.83   4.03  34.7  \n",
       "3  394.63   2.94  33.4  \n",
       "4  396.90   5.33  36.2  "
      ]
     },
     "execution_count": 88,
     "metadata": {},
     "output_type": "execute_result"
    }
   ],
   "source": [
    "hou.head()"
   ]
  },
  {
   "cell_type": "code",
   "execution_count": 89,
   "id": "1ecfdfb7",
   "metadata": {},
   "outputs": [
    {
     "data": {
      "text/html": [
       "<div>\n",
       "<style scoped>\n",
       "    .dataframe tbody tr th:only-of-type {\n",
       "        vertical-align: middle;\n",
       "    }\n",
       "\n",
       "    .dataframe tbody tr th {\n",
       "        vertical-align: top;\n",
       "    }\n",
       "\n",
       "    .dataframe thead th {\n",
       "        text-align: right;\n",
       "    }\n",
       "</style>\n",
       "<table border=\"1\" class=\"dataframe\">\n",
       "  <thead>\n",
       "    <tr style=\"text-align: right;\">\n",
       "      <th></th>\n",
       "      <th>CRIM</th>\n",
       "      <th>ZN</th>\n",
       "      <th>INDUS</th>\n",
       "      <th>CHAS</th>\n",
       "      <th>NOX</th>\n",
       "      <th>RM</th>\n",
       "      <th>AGE</th>\n",
       "      <th>DIS</th>\n",
       "      <th>RAD</th>\n",
       "      <th>TAX</th>\n",
       "      <th>PITRATIO</th>\n",
       "      <th>B</th>\n",
       "      <th>LSTAT</th>\n",
       "      <th>MEDV</th>\n",
       "    </tr>\n",
       "  </thead>\n",
       "  <tbody>\n",
       "    <tr>\n",
       "      <th>501</th>\n",
       "      <td>0.06263</td>\n",
       "      <td>0.0</td>\n",
       "      <td>11.93</td>\n",
       "      <td>0.0</td>\n",
       "      <td>0.573</td>\n",
       "      <td>6.593</td>\n",
       "      <td>69.1</td>\n",
       "      <td>2.4786</td>\n",
       "      <td>1.0</td>\n",
       "      <td>273</td>\n",
       "      <td>21.0</td>\n",
       "      <td>391.99</td>\n",
       "      <td>9.67</td>\n",
       "      <td>22.4</td>\n",
       "    </tr>\n",
       "    <tr>\n",
       "      <th>502</th>\n",
       "      <td>0.04527</td>\n",
       "      <td>0.0</td>\n",
       "      <td>11.93</td>\n",
       "      <td>0.0</td>\n",
       "      <td>0.573</td>\n",
       "      <td>6.120</td>\n",
       "      <td>76.7</td>\n",
       "      <td>2.2875</td>\n",
       "      <td>1.0</td>\n",
       "      <td>273</td>\n",
       "      <td>21.0</td>\n",
       "      <td>396.90</td>\n",
       "      <td>9.08</td>\n",
       "      <td>20.6</td>\n",
       "    </tr>\n",
       "    <tr>\n",
       "      <th>503</th>\n",
       "      <td>0.06076</td>\n",
       "      <td>0.0</td>\n",
       "      <td>11.93</td>\n",
       "      <td>0.0</td>\n",
       "      <td>0.573</td>\n",
       "      <td>6.976</td>\n",
       "      <td>91.0</td>\n",
       "      <td>2.1675</td>\n",
       "      <td>1.0</td>\n",
       "      <td>273</td>\n",
       "      <td>21.0</td>\n",
       "      <td>396.90</td>\n",
       "      <td>5.64</td>\n",
       "      <td>23.9</td>\n",
       "    </tr>\n",
       "    <tr>\n",
       "      <th>504</th>\n",
       "      <td>0.10959</td>\n",
       "      <td>0.0</td>\n",
       "      <td>11.93</td>\n",
       "      <td>0.0</td>\n",
       "      <td>0.573</td>\n",
       "      <td>6.794</td>\n",
       "      <td>89.3</td>\n",
       "      <td>2.3889</td>\n",
       "      <td>1.0</td>\n",
       "      <td>273</td>\n",
       "      <td>21.0</td>\n",
       "      <td>393.45</td>\n",
       "      <td>6.48</td>\n",
       "      <td>22.0</td>\n",
       "    </tr>\n",
       "    <tr>\n",
       "      <th>505</th>\n",
       "      <td>0.04741</td>\n",
       "      <td>0.0</td>\n",
       "      <td>11.93</td>\n",
       "      <td>0.0</td>\n",
       "      <td>0.573</td>\n",
       "      <td>6.030</td>\n",
       "      <td>80.8</td>\n",
       "      <td>2.5050</td>\n",
       "      <td>1.0</td>\n",
       "      <td>273</td>\n",
       "      <td>21.0</td>\n",
       "      <td>396.90</td>\n",
       "      <td>7.88</td>\n",
       "      <td>11.9</td>\n",
       "    </tr>\n",
       "  </tbody>\n",
       "</table>\n",
       "</div>"
      ],
      "text/plain": [
       "        CRIM   ZN  INDUS  CHAS    NOX     RM   AGE     DIS  RAD  TAX  \\\n",
       "501  0.06263  0.0  11.93   0.0  0.573  6.593  69.1  2.4786  1.0  273   \n",
       "502  0.04527  0.0  11.93   0.0  0.573  6.120  76.7  2.2875  1.0  273   \n",
       "503  0.06076  0.0  11.93   0.0  0.573  6.976  91.0  2.1675  1.0  273   \n",
       "504  0.10959  0.0  11.93   0.0  0.573  6.794  89.3  2.3889  1.0  273   \n",
       "505  0.04741  0.0  11.93   0.0  0.573  6.030  80.8  2.5050  1.0  273   \n",
       "\n",
       "     PITRATIO       B  LSTAT  MEDV  \n",
       "501      21.0  391.99   9.67  22.4  \n",
       "502      21.0  396.90   9.08  20.6  \n",
       "503      21.0  396.90   5.64  23.9  \n",
       "504      21.0  393.45   6.48  22.0  \n",
       "505      21.0  396.90   7.88  11.9  "
      ]
     },
     "execution_count": 89,
     "metadata": {},
     "output_type": "execute_result"
    }
   ],
   "source": [
    "hou.tail()"
   ]
  },
  {
   "cell_type": "code",
   "execution_count": 90,
   "id": "5e73b898",
   "metadata": {},
   "outputs": [
    {
     "name": "stdout",
     "output_type": "stream",
     "text": [
      "<class 'pandas.core.frame.DataFrame'>\n",
      "RangeIndex: 506 entries, 0 to 505\n",
      "Data columns (total 14 columns):\n",
      " #   Column    Non-Null Count  Dtype  \n",
      "---  ------    --------------  -----  \n",
      " 0   CRIM      502 non-null    float64\n",
      " 1   ZN        505 non-null    float64\n",
      " 2   INDUS     504 non-null    float64\n",
      " 3   CHAS      505 non-null    float64\n",
      " 4   NOX       501 non-null    float64\n",
      " 5   RM        500 non-null    float64\n",
      " 6   AGE       506 non-null    float64\n",
      " 7   DIS       499 non-null    float64\n",
      " 8   RAD       505 non-null    float64\n",
      " 9   TAX       506 non-null    int64  \n",
      " 10  PITRATIO  502 non-null    float64\n",
      " 11  B         506 non-null    float64\n",
      " 12  LSTAT     504 non-null    float64\n",
      " 13  MEDV      506 non-null    float64\n",
      "dtypes: float64(13), int64(1)\n",
      "memory usage: 55.5 KB\n"
     ]
    }
   ],
   "source": [
    "hou.info()"
   ]
  },
  {
   "cell_type": "code",
   "execution_count": 91,
   "id": "e7916ab6",
   "metadata": {},
   "outputs": [],
   "source": [
    "# so we have so many attributes having missing values....so we are ready to use above steps....of imputer to it."
   ]
  },
  {
   "cell_type": "code",
   "execution_count": 92,
   "id": "a2ca4bdc",
   "metadata": {},
   "outputs": [
    {
     "data": {
      "text/plain": [
       "SimpleImputer(strategy='median')"
      ]
     },
     "execution_count": 92,
     "metadata": {},
     "output_type": "execute_result"
    }
   ],
   "source": [
    "from sklearn.impute import SimpleImputer\n",
    "imputer=SimpleImputer(strategy=\"median\")\n",
    "imputer.fit(hou)\n",
    "# we will ask the imputer to show all the median of each column,in hou and will look it by statistics_"
   ]
  },
  {
   "cell_type": "code",
   "execution_count": 93,
   "id": "eaf69350",
   "metadata": {},
   "outputs": [
    {
     "data": {
      "text/plain": [
       "array([2.6042e-01, 0.0000e+00, 9.6900e+00, 0.0000e+00, 5.3800e-01,\n",
       "       6.2100e+00, 7.7500e+01, 3.1992e+00, 5.0000e+00, 3.3000e+02,\n",
       "       1.9100e+01, 3.9144e+02, 1.1395e+01, 2.1200e+01])"
      ]
     },
     "execution_count": 93,
     "metadata": {},
     "output_type": "execute_result"
    }
   ],
   "source": [
    "imputer.statistics_"
   ]
  },
  {
   "cell_type": "code",
   "execution_count": 94,
   "id": "fb0a4b27",
   "metadata": {},
   "outputs": [
    {
     "data": {
      "text/plain": [
       "(14,)"
      ]
     },
     "execution_count": 94,
     "metadata": {},
     "output_type": "execute_result"
    }
   ],
   "source": [
    "imputer.statistics_                          #To confirm we have median of all columns\n",
    "imputer.statistics_.shape"
   ]
  },
  {
   "cell_type": "code",
   "execution_count": 95,
   "id": "616dd351",
   "metadata": {},
   "outputs": [
    {
     "data": {
      "text/plain": [
       "array([[6.3200e-03, 1.8000e+01, 2.3100e+00, ..., 3.9690e+02, 4.9800e+00,\n",
       "        2.4000e+01],\n",
       "       [2.7310e-02, 0.0000e+00, 7.0700e+00, ..., 3.9690e+02, 9.1400e+00,\n",
       "        2.1600e+01],\n",
       "       [2.7290e-02, 0.0000e+00, 7.0700e+00, ..., 3.9283e+02, 4.0300e+00,\n",
       "        3.4700e+01],\n",
       "       ...,\n",
       "       [6.0760e-02, 0.0000e+00, 1.1930e+01, ..., 3.9690e+02, 5.6400e+00,\n",
       "        2.3900e+01],\n",
       "       [1.0959e-01, 0.0000e+00, 1.1930e+01, ..., 3.9345e+02, 6.4800e+00,\n",
       "        2.2000e+01],\n",
       "       [4.7410e-02, 0.0000e+00, 1.1930e+01, ..., 3.9690e+02, 7.8800e+00,\n",
       "        1.1900e+01]])"
      ]
     },
     "execution_count": 95,
     "metadata": {},
     "output_type": "execute_result"
    }
   ],
   "source": [
    "X=imputer.transform(hou)                         # respective median got fitted to each columnn...ie. hou got transformed.\n",
    "X                                  #as data comes in array form...make it structured..by making dataframe of it so next...."
   ]
  },
  {
   "cell_type": "code",
   "execution_count": 96,
   "id": "6ba837b5",
   "metadata": {},
   "outputs": [
    {
     "data": {
      "text/html": [
       "<div>\n",
       "<style scoped>\n",
       "    .dataframe tbody tr th:only-of-type {\n",
       "        vertical-align: middle;\n",
       "    }\n",
       "\n",
       "    .dataframe tbody tr th {\n",
       "        vertical-align: top;\n",
       "    }\n",
       "\n",
       "    .dataframe thead th {\n",
       "        text-align: right;\n",
       "    }\n",
       "</style>\n",
       "<table border=\"1\" class=\"dataframe\">\n",
       "  <thead>\n",
       "    <tr style=\"text-align: right;\">\n",
       "      <th></th>\n",
       "      <th>CRIM</th>\n",
       "      <th>ZN</th>\n",
       "      <th>INDUS</th>\n",
       "      <th>CHAS</th>\n",
       "      <th>NOX</th>\n",
       "      <th>RM</th>\n",
       "      <th>AGE</th>\n",
       "      <th>DIS</th>\n",
       "      <th>RAD</th>\n",
       "      <th>TAX</th>\n",
       "      <th>PITRATIO</th>\n",
       "      <th>B</th>\n",
       "      <th>LSTAT</th>\n",
       "      <th>MEDV</th>\n",
       "    </tr>\n",
       "  </thead>\n",
       "  <tbody>\n",
       "    <tr>\n",
       "      <th>0</th>\n",
       "      <td>0.00632</td>\n",
       "      <td>18.0</td>\n",
       "      <td>2.31</td>\n",
       "      <td>0.0</td>\n",
       "      <td>0.538</td>\n",
       "      <td>6.575</td>\n",
       "      <td>65.2</td>\n",
       "      <td>4.0900</td>\n",
       "      <td>1.0</td>\n",
       "      <td>296.0</td>\n",
       "      <td>15.3</td>\n",
       "      <td>396.90</td>\n",
       "      <td>4.98</td>\n",
       "      <td>24.0</td>\n",
       "    </tr>\n",
       "    <tr>\n",
       "      <th>1</th>\n",
       "      <td>0.02731</td>\n",
       "      <td>0.0</td>\n",
       "      <td>7.07</td>\n",
       "      <td>0.0</td>\n",
       "      <td>0.469</td>\n",
       "      <td>6.421</td>\n",
       "      <td>78.9</td>\n",
       "      <td>4.9671</td>\n",
       "      <td>2.0</td>\n",
       "      <td>242.0</td>\n",
       "      <td>17.8</td>\n",
       "      <td>396.90</td>\n",
       "      <td>9.14</td>\n",
       "      <td>21.6</td>\n",
       "    </tr>\n",
       "    <tr>\n",
       "      <th>2</th>\n",
       "      <td>0.02729</td>\n",
       "      <td>0.0</td>\n",
       "      <td>7.07</td>\n",
       "      <td>0.0</td>\n",
       "      <td>0.469</td>\n",
       "      <td>7.185</td>\n",
       "      <td>61.1</td>\n",
       "      <td>4.9671</td>\n",
       "      <td>2.0</td>\n",
       "      <td>242.0</td>\n",
       "      <td>17.8</td>\n",
       "      <td>392.83</td>\n",
       "      <td>4.03</td>\n",
       "      <td>34.7</td>\n",
       "    </tr>\n",
       "    <tr>\n",
       "      <th>3</th>\n",
       "      <td>0.03237</td>\n",
       "      <td>0.0</td>\n",
       "      <td>2.18</td>\n",
       "      <td>0.0</td>\n",
       "      <td>0.458</td>\n",
       "      <td>6.210</td>\n",
       "      <td>45.8</td>\n",
       "      <td>6.0622</td>\n",
       "      <td>3.0</td>\n",
       "      <td>222.0</td>\n",
       "      <td>18.7</td>\n",
       "      <td>394.63</td>\n",
       "      <td>2.94</td>\n",
       "      <td>33.4</td>\n",
       "    </tr>\n",
       "    <tr>\n",
       "      <th>4</th>\n",
       "      <td>0.06905</td>\n",
       "      <td>0.0</td>\n",
       "      <td>2.18</td>\n",
       "      <td>0.0</td>\n",
       "      <td>0.458</td>\n",
       "      <td>7.147</td>\n",
       "      <td>54.2</td>\n",
       "      <td>6.0622</td>\n",
       "      <td>3.0</td>\n",
       "      <td>222.0</td>\n",
       "      <td>18.7</td>\n",
       "      <td>396.90</td>\n",
       "      <td>5.33</td>\n",
       "      <td>36.2</td>\n",
       "    </tr>\n",
       "    <tr>\n",
       "      <th>...</th>\n",
       "      <td>...</td>\n",
       "      <td>...</td>\n",
       "      <td>...</td>\n",
       "      <td>...</td>\n",
       "      <td>...</td>\n",
       "      <td>...</td>\n",
       "      <td>...</td>\n",
       "      <td>...</td>\n",
       "      <td>...</td>\n",
       "      <td>...</td>\n",
       "      <td>...</td>\n",
       "      <td>...</td>\n",
       "      <td>...</td>\n",
       "      <td>...</td>\n",
       "    </tr>\n",
       "    <tr>\n",
       "      <th>501</th>\n",
       "      <td>0.06263</td>\n",
       "      <td>0.0</td>\n",
       "      <td>11.93</td>\n",
       "      <td>0.0</td>\n",
       "      <td>0.573</td>\n",
       "      <td>6.593</td>\n",
       "      <td>69.1</td>\n",
       "      <td>2.4786</td>\n",
       "      <td>1.0</td>\n",
       "      <td>273.0</td>\n",
       "      <td>21.0</td>\n",
       "      <td>391.99</td>\n",
       "      <td>9.67</td>\n",
       "      <td>22.4</td>\n",
       "    </tr>\n",
       "    <tr>\n",
       "      <th>502</th>\n",
       "      <td>0.04527</td>\n",
       "      <td>0.0</td>\n",
       "      <td>11.93</td>\n",
       "      <td>0.0</td>\n",
       "      <td>0.573</td>\n",
       "      <td>6.120</td>\n",
       "      <td>76.7</td>\n",
       "      <td>2.2875</td>\n",
       "      <td>1.0</td>\n",
       "      <td>273.0</td>\n",
       "      <td>21.0</td>\n",
       "      <td>396.90</td>\n",
       "      <td>9.08</td>\n",
       "      <td>20.6</td>\n",
       "    </tr>\n",
       "    <tr>\n",
       "      <th>503</th>\n",
       "      <td>0.06076</td>\n",
       "      <td>0.0</td>\n",
       "      <td>11.93</td>\n",
       "      <td>0.0</td>\n",
       "      <td>0.573</td>\n",
       "      <td>6.976</td>\n",
       "      <td>91.0</td>\n",
       "      <td>2.1675</td>\n",
       "      <td>1.0</td>\n",
       "      <td>273.0</td>\n",
       "      <td>21.0</td>\n",
       "      <td>396.90</td>\n",
       "      <td>5.64</td>\n",
       "      <td>23.9</td>\n",
       "    </tr>\n",
       "    <tr>\n",
       "      <th>504</th>\n",
       "      <td>0.10959</td>\n",
       "      <td>0.0</td>\n",
       "      <td>11.93</td>\n",
       "      <td>0.0</td>\n",
       "      <td>0.573</td>\n",
       "      <td>6.794</td>\n",
       "      <td>89.3</td>\n",
       "      <td>2.3889</td>\n",
       "      <td>1.0</td>\n",
       "      <td>273.0</td>\n",
       "      <td>21.0</td>\n",
       "      <td>393.45</td>\n",
       "      <td>6.48</td>\n",
       "      <td>22.0</td>\n",
       "    </tr>\n",
       "    <tr>\n",
       "      <th>505</th>\n",
       "      <td>0.04741</td>\n",
       "      <td>0.0</td>\n",
       "      <td>11.93</td>\n",
       "      <td>0.0</td>\n",
       "      <td>0.573</td>\n",
       "      <td>6.030</td>\n",
       "      <td>80.8</td>\n",
       "      <td>2.5050</td>\n",
       "      <td>1.0</td>\n",
       "      <td>273.0</td>\n",
       "      <td>21.0</td>\n",
       "      <td>396.90</td>\n",
       "      <td>7.88</td>\n",
       "      <td>11.9</td>\n",
       "    </tr>\n",
       "  </tbody>\n",
       "</table>\n",
       "<p>506 rows × 14 columns</p>\n",
       "</div>"
      ],
      "text/plain": [
       "        CRIM    ZN  INDUS  CHAS    NOX     RM   AGE     DIS  RAD    TAX  \\\n",
       "0    0.00632  18.0   2.31   0.0  0.538  6.575  65.2  4.0900  1.0  296.0   \n",
       "1    0.02731   0.0   7.07   0.0  0.469  6.421  78.9  4.9671  2.0  242.0   \n",
       "2    0.02729   0.0   7.07   0.0  0.469  7.185  61.1  4.9671  2.0  242.0   \n",
       "3    0.03237   0.0   2.18   0.0  0.458  6.210  45.8  6.0622  3.0  222.0   \n",
       "4    0.06905   0.0   2.18   0.0  0.458  7.147  54.2  6.0622  3.0  222.0   \n",
       "..       ...   ...    ...   ...    ...    ...   ...     ...  ...    ...   \n",
       "501  0.06263   0.0  11.93   0.0  0.573  6.593  69.1  2.4786  1.0  273.0   \n",
       "502  0.04527   0.0  11.93   0.0  0.573  6.120  76.7  2.2875  1.0  273.0   \n",
       "503  0.06076   0.0  11.93   0.0  0.573  6.976  91.0  2.1675  1.0  273.0   \n",
       "504  0.10959   0.0  11.93   0.0  0.573  6.794  89.3  2.3889  1.0  273.0   \n",
       "505  0.04741   0.0  11.93   0.0  0.573  6.030  80.8  2.5050  1.0  273.0   \n",
       "\n",
       "     PITRATIO       B  LSTAT  MEDV  \n",
       "0        15.3  396.90   4.98  24.0  \n",
       "1        17.8  396.90   9.14  21.6  \n",
       "2        17.8  392.83   4.03  34.7  \n",
       "3        18.7  394.63   2.94  33.4  \n",
       "4        18.7  396.90   5.33  36.2  \n",
       "..        ...     ...    ...   ...  \n",
       "501      21.0  391.99   9.67  22.4  \n",
       "502      21.0  396.90   9.08  20.6  \n",
       "503      21.0  396.90   5.64  23.9  \n",
       "504      21.0  393.45   6.48  22.0  \n",
       "505      21.0  396.90   7.88  11.9  \n",
       "\n",
       "[506 rows x 14 columns]"
      ]
     },
     "execution_count": 96,
     "metadata": {},
     "output_type": "execute_result"
    }
   ],
   "source": [
    "housing_tr=pd.DataFrame(X,columns=hou.columns)\n",
    "housing_tr"
   ]
  },
  {
   "cell_type": "code",
   "execution_count": 97,
   "id": "1b6916cd",
   "metadata": {},
   "outputs": [
    {
     "data": {
      "text/html": [
       "<div>\n",
       "<style scoped>\n",
       "    .dataframe tbody tr th:only-of-type {\n",
       "        vertical-align: middle;\n",
       "    }\n",
       "\n",
       "    .dataframe tbody tr th {\n",
       "        vertical-align: top;\n",
       "    }\n",
       "\n",
       "    .dataframe thead th {\n",
       "        text-align: right;\n",
       "    }\n",
       "</style>\n",
       "<table border=\"1\" class=\"dataframe\">\n",
       "  <thead>\n",
       "    <tr style=\"text-align: right;\">\n",
       "      <th></th>\n",
       "      <th>CRIM</th>\n",
       "      <th>ZN</th>\n",
       "      <th>INDUS</th>\n",
       "      <th>CHAS</th>\n",
       "      <th>NOX</th>\n",
       "      <th>RM</th>\n",
       "      <th>AGE</th>\n",
       "      <th>DIS</th>\n",
       "      <th>RAD</th>\n",
       "      <th>TAX</th>\n",
       "      <th>PITRATIO</th>\n",
       "      <th>B</th>\n",
       "      <th>LSTAT</th>\n",
       "      <th>MEDV</th>\n",
       "    </tr>\n",
       "  </thead>\n",
       "  <tbody>\n",
       "    <tr>\n",
       "      <th>count</th>\n",
       "      <td>506.000000</td>\n",
       "      <td>506.000000</td>\n",
       "      <td>506.000000</td>\n",
       "      <td>506.000000</td>\n",
       "      <td>506.000000</td>\n",
       "      <td>506.000000</td>\n",
       "      <td>506.000000</td>\n",
       "      <td>506.000000</td>\n",
       "      <td>506.000000</td>\n",
       "      <td>506.000000</td>\n",
       "      <td>506.000000</td>\n",
       "      <td>506.000000</td>\n",
       "      <td>506.000000</td>\n",
       "      <td>506.000000</td>\n",
       "    </tr>\n",
       "    <tr>\n",
       "      <th>mean</th>\n",
       "      <td>3.609555</td>\n",
       "      <td>11.363636</td>\n",
       "      <td>11.159190</td>\n",
       "      <td>0.069170</td>\n",
       "      <td>0.554067</td>\n",
       "      <td>6.285079</td>\n",
       "      <td>68.574901</td>\n",
       "      <td>3.786375</td>\n",
       "      <td>9.551383</td>\n",
       "      <td>408.237154</td>\n",
       "      <td>18.470553</td>\n",
       "      <td>356.674032</td>\n",
       "      <td>12.668043</td>\n",
       "      <td>22.532806</td>\n",
       "    </tr>\n",
       "    <tr>\n",
       "      <th>std</th>\n",
       "      <td>8.602381</td>\n",
       "      <td>23.322453</td>\n",
       "      <td>6.845307</td>\n",
       "      <td>0.253994</td>\n",
       "      <td>0.114623</td>\n",
       "      <td>0.701333</td>\n",
       "      <td>28.148861</td>\n",
       "      <td>2.091501</td>\n",
       "      <td>8.706111</td>\n",
       "      <td>168.537116</td>\n",
       "      <td>2.156276</td>\n",
       "      <td>91.294864</td>\n",
       "      <td>7.132979</td>\n",
       "      <td>9.197104</td>\n",
       "    </tr>\n",
       "    <tr>\n",
       "      <th>min</th>\n",
       "      <td>0.006320</td>\n",
       "      <td>0.000000</td>\n",
       "      <td>0.460000</td>\n",
       "      <td>0.000000</td>\n",
       "      <td>0.385000</td>\n",
       "      <td>3.561000</td>\n",
       "      <td>2.900000</td>\n",
       "      <td>1.129600</td>\n",
       "      <td>1.000000</td>\n",
       "      <td>187.000000</td>\n",
       "      <td>12.600000</td>\n",
       "      <td>0.320000</td>\n",
       "      <td>1.730000</td>\n",
       "      <td>5.000000</td>\n",
       "    </tr>\n",
       "    <tr>\n",
       "      <th>25%</th>\n",
       "      <td>0.082268</td>\n",
       "      <td>0.000000</td>\n",
       "      <td>5.190000</td>\n",
       "      <td>0.000000</td>\n",
       "      <td>0.449000</td>\n",
       "      <td>5.887250</td>\n",
       "      <td>45.025000</td>\n",
       "      <td>2.104425</td>\n",
       "      <td>4.000000</td>\n",
       "      <td>279.000000</td>\n",
       "      <td>17.400000</td>\n",
       "      <td>375.377500</td>\n",
       "      <td>7.037500</td>\n",
       "      <td>17.025000</td>\n",
       "    </tr>\n",
       "    <tr>\n",
       "      <th>50%</th>\n",
       "      <td>0.260420</td>\n",
       "      <td>0.000000</td>\n",
       "      <td>9.690000</td>\n",
       "      <td>0.000000</td>\n",
       "      <td>0.538000</td>\n",
       "      <td>6.210000</td>\n",
       "      <td>77.500000</td>\n",
       "      <td>3.199200</td>\n",
       "      <td>5.000000</td>\n",
       "      <td>330.000000</td>\n",
       "      <td>19.100000</td>\n",
       "      <td>391.440000</td>\n",
       "      <td>11.395000</td>\n",
       "      <td>21.200000</td>\n",
       "    </tr>\n",
       "    <tr>\n",
       "      <th>75%</th>\n",
       "      <td>3.677083</td>\n",
       "      <td>12.500000</td>\n",
       "      <td>18.100000</td>\n",
       "      <td>0.000000</td>\n",
       "      <td>0.624000</td>\n",
       "      <td>6.618750</td>\n",
       "      <td>94.075000</td>\n",
       "      <td>5.117675</td>\n",
       "      <td>24.000000</td>\n",
       "      <td>666.000000</td>\n",
       "      <td>20.200000</td>\n",
       "      <td>396.225000</td>\n",
       "      <td>16.955000</td>\n",
       "      <td>25.000000</td>\n",
       "    </tr>\n",
       "    <tr>\n",
       "      <th>max</th>\n",
       "      <td>88.976200</td>\n",
       "      <td>100.000000</td>\n",
       "      <td>27.740000</td>\n",
       "      <td>1.000000</td>\n",
       "      <td>0.871000</td>\n",
       "      <td>8.780000</td>\n",
       "      <td>100.000000</td>\n",
       "      <td>12.126500</td>\n",
       "      <td>24.000000</td>\n",
       "      <td>711.000000</td>\n",
       "      <td>22.000000</td>\n",
       "      <td>396.900000</td>\n",
       "      <td>37.970000</td>\n",
       "      <td>50.000000</td>\n",
       "    </tr>\n",
       "  </tbody>\n",
       "</table>\n",
       "</div>"
      ],
      "text/plain": [
       "             CRIM          ZN       INDUS        CHAS         NOX          RM  \\\n",
       "count  506.000000  506.000000  506.000000  506.000000  506.000000  506.000000   \n",
       "mean     3.609555   11.363636   11.159190    0.069170    0.554067    6.285079   \n",
       "std      8.602381   23.322453    6.845307    0.253994    0.114623    0.701333   \n",
       "min      0.006320    0.000000    0.460000    0.000000    0.385000    3.561000   \n",
       "25%      0.082268    0.000000    5.190000    0.000000    0.449000    5.887250   \n",
       "50%      0.260420    0.000000    9.690000    0.000000    0.538000    6.210000   \n",
       "75%      3.677083   12.500000   18.100000    0.000000    0.624000    6.618750   \n",
       "max     88.976200  100.000000   27.740000    1.000000    0.871000    8.780000   \n",
       "\n",
       "              AGE         DIS         RAD         TAX    PITRATIO           B  \\\n",
       "count  506.000000  506.000000  506.000000  506.000000  506.000000  506.000000   \n",
       "mean    68.574901    3.786375    9.551383  408.237154   18.470553  356.674032   \n",
       "std     28.148861    2.091501    8.706111  168.537116    2.156276   91.294864   \n",
       "min      2.900000    1.129600    1.000000  187.000000   12.600000    0.320000   \n",
       "25%     45.025000    2.104425    4.000000  279.000000   17.400000  375.377500   \n",
       "50%     77.500000    3.199200    5.000000  330.000000   19.100000  391.440000   \n",
       "75%     94.075000    5.117675   24.000000  666.000000   20.200000  396.225000   \n",
       "max    100.000000   12.126500   24.000000  711.000000   22.000000  396.900000   \n",
       "\n",
       "            LSTAT        MEDV  \n",
       "count  506.000000  506.000000  \n",
       "mean    12.668043   22.532806  \n",
       "std      7.132979    9.197104  \n",
       "min      1.730000    5.000000  \n",
       "25%      7.037500   17.025000  \n",
       "50%     11.395000   21.200000  \n",
       "75%     16.955000   25.000000  \n",
       "max     37.970000   50.000000  "
      ]
     },
     "execution_count": 97,
     "metadata": {},
     "output_type": "execute_result"
    }
   ],
   "source": [
    "housing_tr.describe()    #Now we have housing_tr .....name dataframe having all the filled value......hou was still our \n",
    "                                                                                                      #orginal dataframe"
   ]
  },
  {
   "cell_type": "code",
   "execution_count": 98,
   "id": "bf75e693",
   "metadata": {},
   "outputs": [],
   "source": [
    "# now as we have all the values....we want to make CHAS , TAX , RAD int64.....for all data train and test..\n",
    "housing_tr['CHAS']=housing_tr['CHAS'].astype('int64')\n",
    "housing_tr['RAD']=housing_tr['RAD'].astype('int64')\n",
    "housing_tr['TAX']=housing_tr['TAX'].astype('int64')"
   ]
  },
  {
   "cell_type": "code",
   "execution_count": 99,
   "id": "2c69a085",
   "metadata": {},
   "outputs": [
    {
     "name": "stdout",
     "output_type": "stream",
     "text": [
      "<class 'pandas.core.frame.DataFrame'>\n",
      "RangeIndex: 506 entries, 0 to 505\n",
      "Data columns (total 14 columns):\n",
      " #   Column    Non-Null Count  Dtype  \n",
      "---  ------    --------------  -----  \n",
      " 0   CRIM      506 non-null    float64\n",
      " 1   ZN        506 non-null    float64\n",
      " 2   INDUS     506 non-null    float64\n",
      " 3   CHAS      506 non-null    int64  \n",
      " 4   NOX       506 non-null    float64\n",
      " 5   RM        506 non-null    float64\n",
      " 6   AGE       506 non-null    float64\n",
      " 7   DIS       506 non-null    float64\n",
      " 8   RAD       506 non-null    int64  \n",
      " 9   TAX       506 non-null    int64  \n",
      " 10  PITRATIO  506 non-null    float64\n",
      " 11  B         506 non-null    float64\n",
      " 12  LSTAT     506 non-null    float64\n",
      " 13  MEDV      506 non-null    float64\n",
      "dtypes: float64(11), int64(3)\n",
      "memory usage: 55.5 KB\n"
     ]
    }
   ],
   "source": [
    "housing_tr.info()"
   ]
  },
  {
   "cell_type": "markdown",
   "id": "e68b00dd",
   "metadata": {},
   "source": [
    "# ONCE WE GET ALL FILLED VALUES...NOW ITS TIME TO  DIVIDE DATASET INTO TRAIN AND TEST SETS...\n",
    "# FILLED VALUES DATAFRAME IS: housing_tr"
   ]
  },
  {
   "cell_type": "code",
   "execution_count": 100,
   "id": "b0b84d69",
   "metadata": {},
   "outputs": [],
   "source": [
    "from sklearn.model_selection  import train_test_split\n",
    "train1_set,test1_set=train_test_split(housing_tr,test_size=0.2,random_state=42)"
   ]
  },
  {
   "cell_type": "code",
   "execution_count": 101,
   "id": "bc7ed278",
   "metadata": {},
   "outputs": [
    {
     "name": "stdout",
     "output_type": "stream",
     "text": [
      "Rows in train1 set:404\n",
      "Rows in test1 set: 102\n",
      "\n"
     ]
    }
   ],
   "source": [
    "print(f\"Rows in train1 set:{len(train1_set)}\\nRows in test1 set: {len(test1_set)}\\n\")"
   ]
  },
  {
   "cell_type": "code",
   "execution_count": 102,
   "id": "b5af6a36",
   "metadata": {},
   "outputs": [],
   "source": [
    "from sklearn.model_selection import StratifiedShuffleSplit\n",
    "\n",
    "split1=StratifiedShuffleSplit(n_splits=1,test_size=0.2,random_state=42)\n",
    "\n",
    "for train1_index,test1_index in split1.split(housing_tr,housing_tr['CHAS']):\n",
    "    strat_train1_set=housing_tr.loc[train1_index]\n",
    "    strat_test1_set=housing_tr.loc[test1_index]\n"
   ]
  },
  {
   "cell_type": "code",
   "execution_count": 103,
   "id": "7faca116",
   "metadata": {},
   "outputs": [
    {
     "data": {
      "text/html": [
       "<div>\n",
       "<style scoped>\n",
       "    .dataframe tbody tr th:only-of-type {\n",
       "        vertical-align: middle;\n",
       "    }\n",
       "\n",
       "    .dataframe tbody tr th {\n",
       "        vertical-align: top;\n",
       "    }\n",
       "\n",
       "    .dataframe thead th {\n",
       "        text-align: right;\n",
       "    }\n",
       "</style>\n",
       "<table border=\"1\" class=\"dataframe\">\n",
       "  <thead>\n",
       "    <tr style=\"text-align: right;\">\n",
       "      <th></th>\n",
       "      <th>CRIM</th>\n",
       "      <th>ZN</th>\n",
       "      <th>INDUS</th>\n",
       "      <th>CHAS</th>\n",
       "      <th>NOX</th>\n",
       "      <th>RM</th>\n",
       "      <th>AGE</th>\n",
       "      <th>DIS</th>\n",
       "      <th>RAD</th>\n",
       "      <th>TAX</th>\n",
       "      <th>PITRATIO</th>\n",
       "      <th>B</th>\n",
       "      <th>LSTAT</th>\n",
       "      <th>MEDV</th>\n",
       "    </tr>\n",
       "  </thead>\n",
       "  <tbody>\n",
       "    <tr>\n",
       "      <th>254</th>\n",
       "      <td>0.04819</td>\n",
       "      <td>80.0</td>\n",
       "      <td>3.64</td>\n",
       "      <td>0</td>\n",
       "      <td>0.392</td>\n",
       "      <td>6.108</td>\n",
       "      <td>32.0</td>\n",
       "      <td>9.2203</td>\n",
       "      <td>1</td>\n",
       "      <td>315</td>\n",
       "      <td>16.4</td>\n",
       "      <td>392.89</td>\n",
       "      <td>6.57</td>\n",
       "      <td>21.9</td>\n",
       "    </tr>\n",
       "    <tr>\n",
       "      <th>348</th>\n",
       "      <td>0.01501</td>\n",
       "      <td>80.0</td>\n",
       "      <td>2.01</td>\n",
       "      <td>0</td>\n",
       "      <td>0.435</td>\n",
       "      <td>6.635</td>\n",
       "      <td>29.7</td>\n",
       "      <td>8.3440</td>\n",
       "      <td>4</td>\n",
       "      <td>280</td>\n",
       "      <td>17.0</td>\n",
       "      <td>390.94</td>\n",
       "      <td>5.99</td>\n",
       "      <td>24.5</td>\n",
       "    </tr>\n",
       "    <tr>\n",
       "      <th>476</th>\n",
       "      <td>4.87141</td>\n",
       "      <td>0.0</td>\n",
       "      <td>18.10</td>\n",
       "      <td>0</td>\n",
       "      <td>0.614</td>\n",
       "      <td>6.484</td>\n",
       "      <td>93.6</td>\n",
       "      <td>2.3053</td>\n",
       "      <td>24</td>\n",
       "      <td>666</td>\n",
       "      <td>20.2</td>\n",
       "      <td>396.21</td>\n",
       "      <td>18.68</td>\n",
       "      <td>16.7</td>\n",
       "    </tr>\n",
       "    <tr>\n",
       "      <th>321</th>\n",
       "      <td>0.18159</td>\n",
       "      <td>0.0</td>\n",
       "      <td>7.38</td>\n",
       "      <td>0</td>\n",
       "      <td>0.493</td>\n",
       "      <td>6.376</td>\n",
       "      <td>54.3</td>\n",
       "      <td>4.5404</td>\n",
       "      <td>5</td>\n",
       "      <td>287</td>\n",
       "      <td>19.6</td>\n",
       "      <td>396.90</td>\n",
       "      <td>6.87</td>\n",
       "      <td>23.1</td>\n",
       "    </tr>\n",
       "    <tr>\n",
       "      <th>326</th>\n",
       "      <td>0.30347</td>\n",
       "      <td>0.0</td>\n",
       "      <td>7.38</td>\n",
       "      <td>0</td>\n",
       "      <td>0.493</td>\n",
       "      <td>6.312</td>\n",
       "      <td>28.9</td>\n",
       "      <td>5.4159</td>\n",
       "      <td>5</td>\n",
       "      <td>287</td>\n",
       "      <td>19.6</td>\n",
       "      <td>396.90</td>\n",
       "      <td>6.15</td>\n",
       "      <td>23.0</td>\n",
       "    </tr>\n",
       "  </tbody>\n",
       "</table>\n",
       "</div>"
      ],
      "text/plain": [
       "        CRIM    ZN  INDUS  CHAS    NOX     RM   AGE     DIS  RAD  TAX  \\\n",
       "254  0.04819  80.0   3.64     0  0.392  6.108  32.0  9.2203    1  315   \n",
       "348  0.01501  80.0   2.01     0  0.435  6.635  29.7  8.3440    4  280   \n",
       "476  4.87141   0.0  18.10     0  0.614  6.484  93.6  2.3053   24  666   \n",
       "321  0.18159   0.0   7.38     0  0.493  6.376  54.3  4.5404    5  287   \n",
       "326  0.30347   0.0   7.38     0  0.493  6.312  28.9  5.4159    5  287   \n",
       "\n",
       "     PITRATIO       B  LSTAT  MEDV  \n",
       "254      16.4  392.89   6.57  21.9  \n",
       "348      17.0  390.94   5.99  24.5  \n",
       "476      20.2  396.21  18.68  16.7  \n",
       "321      19.6  396.90   6.87  23.1  \n",
       "326      19.6  396.90   6.15  23.0  "
      ]
     },
     "execution_count": 103,
     "metadata": {},
     "output_type": "execute_result"
    }
   ],
   "source": [
    "strat_train1_set.head()"
   ]
  },
  {
   "cell_type": "code",
   "execution_count": 104,
   "id": "688e8612",
   "metadata": {},
   "outputs": [
    {
     "data": {
      "text/html": [
       "<div>\n",
       "<style scoped>\n",
       "    .dataframe tbody tr th:only-of-type {\n",
       "        vertical-align: middle;\n",
       "    }\n",
       "\n",
       "    .dataframe tbody tr th {\n",
       "        vertical-align: top;\n",
       "    }\n",
       "\n",
       "    .dataframe thead th {\n",
       "        text-align: right;\n",
       "    }\n",
       "</style>\n",
       "<table border=\"1\" class=\"dataframe\">\n",
       "  <thead>\n",
       "    <tr style=\"text-align: right;\">\n",
       "      <th></th>\n",
       "      <th>CRIM</th>\n",
       "      <th>ZN</th>\n",
       "      <th>INDUS</th>\n",
       "      <th>CHAS</th>\n",
       "      <th>NOX</th>\n",
       "      <th>RM</th>\n",
       "      <th>AGE</th>\n",
       "      <th>DIS</th>\n",
       "      <th>RAD</th>\n",
       "      <th>TAX</th>\n",
       "      <th>PITRATIO</th>\n",
       "      <th>B</th>\n",
       "      <th>LSTAT</th>\n",
       "      <th>MEDV</th>\n",
       "    </tr>\n",
       "  </thead>\n",
       "  <tbody>\n",
       "    <tr>\n",
       "      <th>155</th>\n",
       "      <td>3.53501</td>\n",
       "      <td>0.0</td>\n",
       "      <td>19.58</td>\n",
       "      <td>1</td>\n",
       "      <td>0.871</td>\n",
       "      <td>6.152</td>\n",
       "      <td>82.6</td>\n",
       "      <td>1.7455</td>\n",
       "      <td>5</td>\n",
       "      <td>403</td>\n",
       "      <td>14.7</td>\n",
       "      <td>88.01</td>\n",
       "      <td>15.02</td>\n",
       "      <td>15.6</td>\n",
       "    </tr>\n",
       "    <tr>\n",
       "      <th>423</th>\n",
       "      <td>7.05042</td>\n",
       "      <td>0.0</td>\n",
       "      <td>18.10</td>\n",
       "      <td>0</td>\n",
       "      <td>0.614</td>\n",
       "      <td>6.103</td>\n",
       "      <td>85.1</td>\n",
       "      <td>2.0218</td>\n",
       "      <td>24</td>\n",
       "      <td>666</td>\n",
       "      <td>20.2</td>\n",
       "      <td>2.52</td>\n",
       "      <td>23.29</td>\n",
       "      <td>13.4</td>\n",
       "    </tr>\n",
       "    <tr>\n",
       "      <th>98</th>\n",
       "      <td>0.08187</td>\n",
       "      <td>0.0</td>\n",
       "      <td>2.89</td>\n",
       "      <td>0</td>\n",
       "      <td>0.445</td>\n",
       "      <td>7.820</td>\n",
       "      <td>36.9</td>\n",
       "      <td>3.4952</td>\n",
       "      <td>2</td>\n",
       "      <td>276</td>\n",
       "      <td>18.0</td>\n",
       "      <td>393.53</td>\n",
       "      <td>3.57</td>\n",
       "      <td>43.8</td>\n",
       "    </tr>\n",
       "    <tr>\n",
       "      <th>455</th>\n",
       "      <td>4.75237</td>\n",
       "      <td>0.0</td>\n",
       "      <td>18.10</td>\n",
       "      <td>0</td>\n",
       "      <td>0.713</td>\n",
       "      <td>6.525</td>\n",
       "      <td>86.5</td>\n",
       "      <td>2.4358</td>\n",
       "      <td>24</td>\n",
       "      <td>666</td>\n",
       "      <td>20.2</td>\n",
       "      <td>50.92</td>\n",
       "      <td>18.13</td>\n",
       "      <td>14.1</td>\n",
       "    </tr>\n",
       "    <tr>\n",
       "      <th>216</th>\n",
       "      <td>0.04560</td>\n",
       "      <td>0.0</td>\n",
       "      <td>13.89</td>\n",
       "      <td>1</td>\n",
       "      <td>0.550</td>\n",
       "      <td>5.888</td>\n",
       "      <td>56.0</td>\n",
       "      <td>3.1121</td>\n",
       "      <td>5</td>\n",
       "      <td>276</td>\n",
       "      <td>16.4</td>\n",
       "      <td>392.80</td>\n",
       "      <td>13.51</td>\n",
       "      <td>23.3</td>\n",
       "    </tr>\n",
       "  </tbody>\n",
       "</table>\n",
       "</div>"
      ],
      "text/plain": [
       "        CRIM   ZN  INDUS  CHAS    NOX     RM   AGE     DIS  RAD  TAX  \\\n",
       "155  3.53501  0.0  19.58     1  0.871  6.152  82.6  1.7455    5  403   \n",
       "423  7.05042  0.0  18.10     0  0.614  6.103  85.1  2.0218   24  666   \n",
       "98   0.08187  0.0   2.89     0  0.445  7.820  36.9  3.4952    2  276   \n",
       "455  4.75237  0.0  18.10     0  0.713  6.525  86.5  2.4358   24  666   \n",
       "216  0.04560  0.0  13.89     1  0.550  5.888  56.0  3.1121    5  276   \n",
       "\n",
       "     PITRATIO       B  LSTAT  MEDV  \n",
       "155      14.7   88.01  15.02  15.6  \n",
       "423      20.2    2.52  23.29  13.4  \n",
       "98       18.0  393.53   3.57  43.8  \n",
       "455      20.2   50.92  18.13  14.1  \n",
       "216      16.4  392.80  13.51  23.3  "
      ]
     },
     "execution_count": 104,
     "metadata": {},
     "output_type": "execute_result"
    }
   ],
   "source": [
    "strat_train1_set.tail()"
   ]
  },
  {
   "cell_type": "code",
   "execution_count": 105,
   "id": "97101bf3",
   "metadata": {},
   "outputs": [
    {
     "name": "stdout",
     "output_type": "stream",
     "text": [
      "<class 'pandas.core.frame.DataFrame'>\n",
      "Int64Index: 404 entries, 254 to 216\n",
      "Data columns (total 14 columns):\n",
      " #   Column    Non-Null Count  Dtype  \n",
      "---  ------    --------------  -----  \n",
      " 0   CRIM      404 non-null    float64\n",
      " 1   ZN        404 non-null    float64\n",
      " 2   INDUS     404 non-null    float64\n",
      " 3   CHAS      404 non-null    int64  \n",
      " 4   NOX       404 non-null    float64\n",
      " 5   RM        404 non-null    float64\n",
      " 6   AGE       404 non-null    float64\n",
      " 7   DIS       404 non-null    float64\n",
      " 8   RAD       404 non-null    int64  \n",
      " 9   TAX       404 non-null    int64  \n",
      " 10  PITRATIO  404 non-null    float64\n",
      " 11  B         404 non-null    float64\n",
      " 12  LSTAT     404 non-null    float64\n",
      " 13  MEDV      404 non-null    float64\n",
      "dtypes: float64(11), int64(3)\n",
      "memory usage: 47.3 KB\n"
     ]
    }
   ],
   "source": [
    "strat_train1_set.info()"
   ]
  },
  {
   "cell_type": "code",
   "execution_count": 106,
   "id": "8190d7a6",
   "metadata": {},
   "outputs": [],
   "source": [
    "housing_tr=strat_train1_set.copy()    # Make a copy of training set on housing_tr."
   ]
  },
  {
   "cell_type": "code",
   "execution_count": 107,
   "id": "e72c5081",
   "metadata": {},
   "outputs": [
    {
     "name": "stdout",
     "output_type": "stream",
     "text": [
      "<class 'pandas.core.frame.DataFrame'>\n",
      "Int64Index: 404 entries, 254 to 216\n",
      "Data columns (total 14 columns):\n",
      " #   Column    Non-Null Count  Dtype  \n",
      "---  ------    --------------  -----  \n",
      " 0   CRIM      404 non-null    float64\n",
      " 1   ZN        404 non-null    float64\n",
      " 2   INDUS     404 non-null    float64\n",
      " 3   CHAS      404 non-null    int64  \n",
      " 4   NOX       404 non-null    float64\n",
      " 5   RM        404 non-null    float64\n",
      " 6   AGE       404 non-null    float64\n",
      " 7   DIS       404 non-null    float64\n",
      " 8   RAD       404 non-null    int64  \n",
      " 9   TAX       404 non-null    int64  \n",
      " 10  PITRATIO  404 non-null    float64\n",
      " 11  B         404 non-null    float64\n",
      " 12  LSTAT     404 non-null    float64\n",
      " 13  MEDV      404 non-null    float64\n",
      "dtypes: float64(11), int64(3)\n",
      "memory usage: 47.3 KB\n"
     ]
    }
   ],
   "source": [
    "housing_tr.info()                  "
   ]
  },
  {
   "cell_type": "code",
   "execution_count": 108,
   "id": "51113807",
   "metadata": {},
   "outputs": [],
   "source": [
    "# REMOVING THE LABEL FROM MAIN DATASET....\n",
    "housing_tr=strat_train_set.drop(\"MEDV\",axis=1)            #features \n",
    "housing_tr_labels=strat_train_set[\"MEDV\"].copy()          # label/target for us is price MEDV"
   ]
  },
  {
   "cell_type": "code",
   "execution_count": 109,
   "id": "f71bd671",
   "metadata": {},
   "outputs": [],
   "source": [
    "from sklearn.pipeline import Pipeline"
   ]
  },
  {
   "cell_type": "code",
   "execution_count": 110,
   "id": "647f326c",
   "metadata": {},
   "outputs": [],
   "source": [
    "from sklearn.preprocessing import StandardScaler"
   ]
  },
  {
   "cell_type": "code",
   "execution_count": 111,
   "id": "cf73c230",
   "metadata": {},
   "outputs": [
    {
     "data": {
      "text/plain": [
       "array([[-0.43942006,  3.12628155, -1.12165014, ..., -0.97491834,\n",
       "         0.41164221, -0.86091034],\n",
       "       [-0.44352175,  3.12628155, -1.35893781, ..., -0.69277865,\n",
       "         0.39131918, -0.94116739],\n",
       "       [ 0.15682292, -0.4898311 ,  0.98336806, ...,  0.81196637,\n",
       "         0.44624347,  0.81480158],\n",
       "       ...,\n",
       "       [-0.43525657, -0.4898311 , -1.23083158, ..., -0.22254583,\n",
       "         0.41831233, -1.27603303],\n",
       "       [ 0.14210728, -0.4898311 ,  0.98336806, ...,  0.81196637,\n",
       "        -3.15239177,  0.73869575],\n",
       "       [-0.43974024, -0.4898311 ,  0.37049623, ..., -0.97491834,\n",
       "         0.41070422,  0.09940681]])"
      ]
     },
     "execution_count": 111,
     "metadata": {},
     "output_type": "execute_result"
    }
   ],
   "source": [
    "my_pipeline = Pipeline([\n",
    "    ('imputer',SimpleImputer(strategy=\"median\")),(\"std_scaler\",StandardScaler())])\n",
    "housing_num_tr=my_pipeline.fit_transform(housing_tr)\n",
    "housing_num_tr     # This came to be a numpy array"
   ]
  },
  {
   "cell_type": "code",
   "execution_count": 112,
   "id": "817351e2",
   "metadata": {},
   "outputs": [
    {
     "data": {
      "text/plain": [
       "(404, 13)"
      ]
     },
     "execution_count": 112,
     "metadata": {},
     "output_type": "execute_result"
    }
   ],
   "source": [
    "housing_num_tr.shape      #this contain only training set."
   ]
  },
  {
   "cell_type": "code",
   "execution_count": 113,
   "id": "12becd22",
   "metadata": {},
   "outputs": [
    {
     "data": {
      "text/html": [
       "<div>\n",
       "<style scoped>\n",
       "    .dataframe tbody tr th:only-of-type {\n",
       "        vertical-align: middle;\n",
       "    }\n",
       "\n",
       "    .dataframe tbody tr th {\n",
       "        vertical-align: top;\n",
       "    }\n",
       "\n",
       "    .dataframe thead th {\n",
       "        text-align: right;\n",
       "    }\n",
       "</style>\n",
       "<table border=\"1\" class=\"dataframe\">\n",
       "  <thead>\n",
       "    <tr style=\"text-align: right;\">\n",
       "      <th></th>\n",
       "      <th>CRIM</th>\n",
       "      <th>ZN</th>\n",
       "      <th>INDUS</th>\n",
       "      <th>CHAS</th>\n",
       "      <th>NOX</th>\n",
       "      <th>RM</th>\n",
       "      <th>AGE</th>\n",
       "      <th>DIS</th>\n",
       "      <th>RAD</th>\n",
       "      <th>TAX</th>\n",
       "      <th>PITRATIO</th>\n",
       "      <th>B</th>\n",
       "      <th>LSTAT</th>\n",
       "    </tr>\n",
       "  </thead>\n",
       "  <tbody>\n",
       "    <tr>\n",
       "      <th>254</th>\n",
       "      <td>0.04819</td>\n",
       "      <td>80.0</td>\n",
       "      <td>3.64</td>\n",
       "      <td>0</td>\n",
       "      <td>0.392</td>\n",
       "      <td>6.108</td>\n",
       "      <td>32.0</td>\n",
       "      <td>9.2203</td>\n",
       "      <td>1</td>\n",
       "      <td>315</td>\n",
       "      <td>16.4</td>\n",
       "      <td>392.89</td>\n",
       "      <td>6.57</td>\n",
       "    </tr>\n",
       "    <tr>\n",
       "      <th>348</th>\n",
       "      <td>0.01501</td>\n",
       "      <td>80.0</td>\n",
       "      <td>2.01</td>\n",
       "      <td>0</td>\n",
       "      <td>0.435</td>\n",
       "      <td>6.635</td>\n",
       "      <td>29.7</td>\n",
       "      <td>8.3440</td>\n",
       "      <td>4</td>\n",
       "      <td>280</td>\n",
       "      <td>17.0</td>\n",
       "      <td>390.94</td>\n",
       "      <td>5.99</td>\n",
       "    </tr>\n",
       "    <tr>\n",
       "      <th>476</th>\n",
       "      <td>4.87141</td>\n",
       "      <td>0.0</td>\n",
       "      <td>18.10</td>\n",
       "      <td>0</td>\n",
       "      <td>0.614</td>\n",
       "      <td>6.484</td>\n",
       "      <td>93.6</td>\n",
       "      <td>2.3053</td>\n",
       "      <td>24</td>\n",
       "      <td>666</td>\n",
       "      <td>20.2</td>\n",
       "      <td>396.21</td>\n",
       "      <td>18.68</td>\n",
       "    </tr>\n",
       "    <tr>\n",
       "      <th>321</th>\n",
       "      <td>0.18159</td>\n",
       "      <td>0.0</td>\n",
       "      <td>7.38</td>\n",
       "      <td>0</td>\n",
       "      <td>0.493</td>\n",
       "      <td>6.376</td>\n",
       "      <td>54.3</td>\n",
       "      <td>4.5404</td>\n",
       "      <td>5</td>\n",
       "      <td>287</td>\n",
       "      <td>19.6</td>\n",
       "      <td>396.90</td>\n",
       "      <td>6.87</td>\n",
       "    </tr>\n",
       "    <tr>\n",
       "      <th>326</th>\n",
       "      <td>0.30347</td>\n",
       "      <td>0.0</td>\n",
       "      <td>7.38</td>\n",
       "      <td>0</td>\n",
       "      <td>0.493</td>\n",
       "      <td>6.312</td>\n",
       "      <td>28.9</td>\n",
       "      <td>5.4159</td>\n",
       "      <td>5</td>\n",
       "      <td>287</td>\n",
       "      <td>19.6</td>\n",
       "      <td>396.90</td>\n",
       "      <td>6.15</td>\n",
       "    </tr>\n",
       "  </tbody>\n",
       "</table>\n",
       "</div>"
      ],
      "text/plain": [
       "        CRIM    ZN  INDUS  CHAS    NOX     RM   AGE     DIS  RAD  TAX  \\\n",
       "254  0.04819  80.0   3.64     0  0.392  6.108  32.0  9.2203    1  315   \n",
       "348  0.01501  80.0   2.01     0  0.435  6.635  29.7  8.3440    4  280   \n",
       "476  4.87141   0.0  18.10     0  0.614  6.484  93.6  2.3053   24  666   \n",
       "321  0.18159   0.0   7.38     0  0.493  6.376  54.3  4.5404    5  287   \n",
       "326  0.30347   0.0   7.38     0  0.493  6.312  28.9  5.4159    5  287   \n",
       "\n",
       "     PITRATIO       B  LSTAT  \n",
       "254      16.4  392.89   6.57  \n",
       "348      17.0  390.94   5.99  \n",
       "476      20.2  396.21  18.68  \n",
       "321      19.6  396.90   6.87  \n",
       "326      19.6  396.90   6.15  "
      ]
     },
     "execution_count": 113,
     "metadata": {},
     "output_type": "execute_result"
    }
   ],
   "source": [
    "housing_tr.head()       #independent of MEDV"
   ]
  },
  {
   "cell_type": "markdown",
   "id": "003acd24",
   "metadata": {},
   "source": [
    "# SELECTING A DESIRED MODEL FOR PREDICITON OF PRICE."
   ]
  },
  {
   "cell_type": "markdown",
   "id": "ecbd27b9",
   "metadata": {},
   "source": [
    "# 1.LINEAR REGRESSION MODEL"
   ]
  },
  {
   "cell_type": "code",
   "execution_count": 114,
   "id": "559d997b",
   "metadata": {},
   "outputs": [
    {
     "data": {
      "text/plain": [
       "LinearRegression()"
      ]
     },
     "execution_count": 114,
     "metadata": {},
     "output_type": "execute_result"
    }
   ],
   "source": [
    "from sklearn.linear_model import LinearRegression\n",
    "model=LinearRegression()\n",
    "model.fit(housing_num_tr,housing_tr_labels)     "
   ]
  },
  {
   "cell_type": "code",
   "execution_count": 115,
   "id": "59bd9f0b",
   "metadata": {},
   "outputs": [],
   "source": [
    "some_data_tr=housing_tr.iloc[0:5]"
   ]
  },
  {
   "cell_type": "code",
   "execution_count": 116,
   "id": "c65516c7",
   "metadata": {},
   "outputs": [],
   "source": [
    "some_labels=housing_tr_labels.iloc[:5]"
   ]
  },
  {
   "cell_type": "code",
   "execution_count": 117,
   "id": "a681a3ad",
   "metadata": {},
   "outputs": [],
   "source": [
    "prepared_data=my_pipeline.transform(some_data_tr)"
   ]
  },
  {
   "cell_type": "code",
   "execution_count": 118,
   "id": "c23d0f53",
   "metadata": {},
   "outputs": [
    {
     "data": {
      "text/plain": [
       "array([23.94996893, 27.21690623, 20.58079789, 25.04088721, 23.76177838])"
      ]
     },
     "execution_count": 118,
     "metadata": {},
     "output_type": "execute_result"
    }
   ],
   "source": [
    "model.predict(prepared_data)      # predicted price"
   ]
  },
  {
   "cell_type": "code",
   "execution_count": 119,
   "id": "26a5c253",
   "metadata": {},
   "outputs": [
    {
     "data": {
      "text/plain": [
       "[21.9, 24.5, 16.7, 23.1, 23.0]"
      ]
     },
     "execution_count": 119,
     "metadata": {},
     "output_type": "execute_result"
    }
   ],
   "source": [
    "list(some_labels)                # actucal price in test set."
   ]
  },
  {
   "cell_type": "code",
   "execution_count": 120,
   "id": "84516900",
   "metadata": {},
   "outputs": [],
   "source": [
    "# these are corresponding values we get.....some_label values are actucal Y_train values....ie. price in train...and prep data\n",
    "# predicted values of price for the same price ."
   ]
  },
  {
   "cell_type": "code",
   "execution_count": 121,
   "id": "d1469093",
   "metadata": {},
   "outputs": [],
   "source": [
    "# for 21.9-----> got 23.94996893,\n",
    "# for 24.5-----> got  27.21690623.... ...  for23.0 ---> 23.76177838...this is good."
   ]
  },
  {
   "cell_type": "code",
   "execution_count": 122,
   "id": "25fa4781",
   "metadata": {},
   "outputs": [],
   "source": [
    "#NOW LETS FIND RMSE VALUES......FOR ACCURACY."
   ]
  },
  {
   "cell_type": "code",
   "execution_count": null,
   "id": "13497f7e",
   "metadata": {},
   "outputs": [],
   "source": []
  },
  {
   "cell_type": "markdown",
   "id": "cf6eb250",
   "metadata": {},
   "source": [
    "# EVALUATING THE MODEL"
   ]
  },
  {
   "cell_type": "code",
   "execution_count": 123,
   "id": "716f06b1",
   "metadata": {},
   "outputs": [],
   "source": [
    "from sklearn.metrics import mean_squared_error\n",
    "housing_predicitons = model.predict(housing_num_tr)\n",
    "lin_mse=mean_squared_error(housing_tr_labels,housing_predicitons)\n",
    "lin_rmse= np.sqrt(lin_mse)"
   ]
  },
  {
   "cell_type": "code",
   "execution_count": 124,
   "id": "52306d6e",
   "metadata": {},
   "outputs": [
    {
     "data": {
      "text/plain": [
       "23.322346079233675"
      ]
     },
     "execution_count": 124,
     "metadata": {},
     "output_type": "execute_result"
    }
   ],
   "source": [
    "lin_mse  # Linear Regression's mean squared error."
   ]
  },
  {
   "cell_type": "code",
   "execution_count": 125,
   "id": "0e01b2b1",
   "metadata": {},
   "outputs": [
    {
     "data": {
      "text/plain": [
       "4.829321492635759"
      ]
     },
     "execution_count": 125,
     "metadata": {},
     "output_type": "execute_result"
    }
   ],
   "source": [
    "lin_rmse  # Linear Regression's root mean squared error."
   ]
  },
  {
   "cell_type": "markdown",
   "id": "efd8d31f",
   "metadata": {},
   "source": [
    "# USE BETTER EVALUATION TECHNIQUE----CROSS VALIDATION."
   ]
  },
  {
   "cell_type": "code",
   "execution_count": 126,
   "id": "45aadf43",
   "metadata": {},
   "outputs": [],
   "source": [
    "#USING CROSS VALIDATION..\n",
    "\n",
    "from sklearn.model_selection import cross_val_score\n",
    "scores=cross_val_score(model,housing_num_tr, housing_tr_labels,scoring=\"neg_mean_squared_error\",cv=10)\n",
    "rmse_scores=np.sqrt(-scores)"
   ]
  },
  {
   "cell_type": "code",
   "execution_count": 127,
   "id": "6f67baa2",
   "metadata": {},
   "outputs": [
    {
     "data": {
      "text/plain": [
       "array([4.21674442, 4.26026816, 5.1071608 , 3.82881892, 5.34093789,\n",
       "       4.3785611 , 7.47384779, 5.48226252, 4.14885722, 6.0669122 ])"
      ]
     },
     "execution_count": 127,
     "metadata": {},
     "output_type": "execute_result"
    }
   ],
   "source": [
    "rmse_scores"
   ]
  },
  {
   "cell_type": "code",
   "execution_count": 128,
   "id": "f8930604",
   "metadata": {},
   "outputs": [],
   "source": [
    "#NOTE: WE CANNOT BEAR THIS MUCH DIFFERNECE IN ACTUAL AND PREDICTED ONE.\n",
    "# ...THEREFORE, WE WILL DISCARD THIS MODEL...THAT IS WE WILL DISCARD lINEAR REGRESSION MODEL"
   ]
  },
  {
   "cell_type": "code",
   "execution_count": 129,
   "id": "e45e11cd",
   "metadata": {},
   "outputs": [],
   "source": [
    "# USING THESE SCORES ,WE FIND MEAN, SD, WE CREATE A FUNCTION FOR IT.\n",
    "\n",
    "def print_scores(scores):\n",
    "    print(\"Scores\",scores)\n",
    "    print(\"Mean\",scores.mean())\n",
    "    print(\"Standard Deviation\",scores.std())\n",
    "    "
   ]
  },
  {
   "cell_type": "code",
   "execution_count": 130,
   "id": "a98d7274",
   "metadata": {},
   "outputs": [
    {
     "name": "stdout",
     "output_type": "stream",
     "text": [
      "Scores [4.21674442 4.26026816 5.1071608  3.82881892 5.34093789 4.3785611\n",
      " 7.47384779 5.48226252 4.14885722 6.0669122 ]\n",
      "Mean 5.030437102767305\n",
      "Standard Deviation 1.0607661158294834\n"
     ]
    }
   ],
   "source": [
    "print_scores(rmse_scores)"
   ]
  },
  {
   "cell_type": "markdown",
   "id": "523db315",
   "metadata": {},
   "source": [
    "# 2. DECISION TREE MODEL"
   ]
  },
  {
   "cell_type": "code",
   "execution_count": 131,
   "id": "3d0efd3d",
   "metadata": {},
   "outputs": [
    {
     "data": {
      "text/plain": [
       "DecisionTreeRegressor()"
      ]
     },
     "execution_count": 131,
     "metadata": {},
     "output_type": "execute_result"
    }
   ],
   "source": [
    "from sklearn.tree import DecisionTreeRegressor\n",
    "model=DecisionTreeRegressor()\n",
    "model.fit(housing_num_tr,housing_tr_labels)  "
   ]
  },
  {
   "cell_type": "code",
   "execution_count": 132,
   "id": "c8e66d14",
   "metadata": {},
   "outputs": [],
   "source": [
    "some_data_tr=housing_tr.iloc[0:5]\n",
    "some_labels=housing_tr_labels.iloc[:5]"
   ]
  },
  {
   "cell_type": "code",
   "execution_count": 133,
   "id": "a6d565c8",
   "metadata": {},
   "outputs": [],
   "source": [
    "prepared_data=my_pipeline.transform(some_data_tr)"
   ]
  },
  {
   "cell_type": "code",
   "execution_count": 134,
   "id": "15178676",
   "metadata": {},
   "outputs": [
    {
     "data": {
      "text/plain": [
       "array([21.9, 24.5, 16.7, 23.1, 23. ])"
      ]
     },
     "execution_count": 134,
     "metadata": {},
     "output_type": "execute_result"
    }
   ],
   "source": [
    "model.predict(prepared_data)"
   ]
  },
  {
   "cell_type": "code",
   "execution_count": 135,
   "id": "f7f8c9c6",
   "metadata": {},
   "outputs": [
    {
     "data": {
      "text/plain": [
       "[21.9, 24.5, 16.7, 23.1, 23.0]"
      ]
     },
     "execution_count": 135,
     "metadata": {},
     "output_type": "execute_result"
    }
   ],
   "source": [
    "list(some_labels)        "
   ]
  },
  {
   "cell_type": "code",
   "execution_count": 136,
   "id": "dd8d8f6a",
   "metadata": {},
   "outputs": [],
   "source": [
    "from sklearn.metrics import mean_squared_error\n",
    "housing_predicitons = model.predict(housing_num_tr)\n",
    "lin_mse=mean_squared_error(housing_tr_labels,housing_predicitons)\n",
    "lin_rmse= np.sqrt(lin_mse)"
   ]
  },
  {
   "cell_type": "code",
   "execution_count": 137,
   "id": "f903f413",
   "metadata": {},
   "outputs": [
    {
     "data": {
      "text/plain": [
       "0.0"
      ]
     },
     "execution_count": 137,
     "metadata": {},
     "output_type": "execute_result"
    }
   ],
   "source": [
    "lin_rmse"
   ]
  },
  {
   "cell_type": "markdown",
   "id": "84dbac33",
   "metadata": {},
   "source": [
    "# USE BETTER EVALUATION TECHNIQUE----CROSS VALIDATION."
   ]
  },
  {
   "cell_type": "code",
   "execution_count": 138,
   "id": "adc5db1f",
   "metadata": {},
   "outputs": [],
   "source": [
    "# which is wrong and our model has been overfitted here.....thats why its showing zero error.\n",
    "# we are interested yo make the system learn about the trend out of the given dataset..and not at all in getting errorless,\n",
    "# but over fitted data."
   ]
  },
  {
   "cell_type": "code",
   "execution_count": 139,
   "id": "7b32723f",
   "metadata": {},
   "outputs": [],
   "source": [
    "#what is overfitting?\n",
    "# When our system learned from noise."
   ]
  },
  {
   "cell_type": "code",
   "execution_count": 140,
   "id": "221b4699",
   "metadata": {},
   "outputs": [],
   "source": [
    "# NOTE: DO NOT TOUCH OUR TEST SET UNLESS OR UNTIL,WE ARE AT THAT STAGE THAT WE GOT BESTMODEL."
   ]
  },
  {
   "cell_type": "code",
   "execution_count": 141,
   "id": "63f7182e",
   "metadata": {},
   "outputs": [],
   "source": [
    "#NOW THE QUESTION ARISES,HOW TO GET RID OF THIS OVERFITTING ISSUE....SO WE HAVE TO USE CROSS VALIDATION."
   ]
  },
  {
   "cell_type": "code",
   "execution_count": 142,
   "id": "7960a8fb",
   "metadata": {},
   "outputs": [],
   "source": [
    "#USING CROSS VALIDATION..\n",
    "\n",
    "from sklearn.model_selection import cross_val_score\n",
    "scores=cross_val_score(model,housing_num_tr, housing_tr_labels,scoring=\"neg_mean_squared_error\",cv=10)\n",
    "rmse_scores=np.sqrt(-scores)"
   ]
  },
  {
   "cell_type": "code",
   "execution_count": 143,
   "id": "b9cd20fc",
   "metadata": {},
   "outputs": [
    {
     "data": {
      "text/plain": [
       "array([3.86207325, 5.7415261 , 5.46521149, 3.85230371, 4.095058  ,\n",
       "       3.7222641 , 5.05507171, 3.75283226, 3.42728026, 3.82348009])"
      ]
     },
     "execution_count": 143,
     "metadata": {},
     "output_type": "execute_result"
    }
   ],
   "source": [
    "rmse_scores"
   ]
  },
  {
   "cell_type": "code",
   "execution_count": 144,
   "id": "eacbd7b6",
   "metadata": {},
   "outputs": [],
   "source": [
    "# USING THESE SCORES ,WE FIND MEAN, SD, WE CREATE A FUNCTION FOR IT.\n",
    "\n",
    "def print_scores(scores):\n",
    "    print(\"Scores\",scores)\n",
    "    print(\"Mean\",scores.mean())\n",
    "    print(\"Standard Deviation\",scores.std())"
   ]
  },
  {
   "cell_type": "code",
   "execution_count": 145,
   "id": "24e62c1c",
   "metadata": {},
   "outputs": [
    {
     "name": "stdout",
     "output_type": "stream",
     "text": [
      "Scores [3.86207325 5.7415261  5.46521149 3.85230371 4.095058   3.7222641\n",
      " 5.05507171 3.75283226 3.42728026 3.82348009]\n",
      "Mean 4.279710096542766\n",
      "Standard Deviation 0.7783204411179946\n"
     ]
    }
   ],
   "source": [
    "print_scores(rmse_scores)"
   ]
  },
  {
   "cell_type": "code",
   "execution_count": 146,
   "id": "b03e2a34",
   "metadata": {},
   "outputs": [],
   "source": [
    "# This has removed the overfitting of data..and we are not getting zero error which is a good sign.\n",
    "# NOTE: FROM THIS ERROR WE GOT FROM rmse_scores.\n",
    "\n",
    "#NOW ALSO APPLY THIS CROSS VALIDATION TO LINEAR REGRESSION ALSO."
   ]
  },
  {
   "cell_type": "code",
   "execution_count": 147,
   "id": "446fbfd1",
   "metadata": {},
   "outputs": [],
   "source": [
    "#                USING CROSS VALIDATION WE GOT THE OUTPUT FOR BOTH THE MODEL\n",
    "#  ERRORS WE ARE GETTING FROM LINEAR REGRESSION:\n",
    "# array([4.21674442, 4.26026816, 5.1071608 , 3.82881892, 5.34093789,4.3785611 , 7.47384779, 5.48226252, 4.14885722, 6.0669122 ])\n",
    "\n",
    "#  ERRORS WE ARE GETTING FROM DECISION TREE MODEL:\n",
    "#array([3.93154844, 5.65724228, 5.45531739, 3.83927076, 3.90134592,2.88911751, 5.01796772, 3.87533869, 3.32061741, 4.37187031])"
   ]
  },
  {
   "cell_type": "code",
   "execution_count": 148,
   "id": "5a0c4203",
   "metadata": {},
   "outputs": [],
   "source": [
    "# NOTE THAT DECISION TREE MODEL IS BETTER THEN LINEAR REGRESSION MODEL."
   ]
  },
  {
   "cell_type": "markdown",
   "id": "a6e8ee36",
   "metadata": {},
   "source": [
    "# 3. RANDOM FOREST REGRESSOR"
   ]
  },
  {
   "cell_type": "code",
   "execution_count": 149,
   "id": "997ef9f4",
   "metadata": {},
   "outputs": [
    {
     "data": {
      "text/plain": [
       "RandomForestRegressor()"
      ]
     },
     "execution_count": 149,
     "metadata": {},
     "output_type": "execute_result"
    }
   ],
   "source": [
    "from sklearn.ensemble import RandomForestRegressor\n",
    "model=RandomForestRegressor()\n",
    "model.fit(housing_num_tr,housing_tr_labels) "
   ]
  },
  {
   "cell_type": "code",
   "execution_count": 150,
   "id": "bf884ac0",
   "metadata": {},
   "outputs": [],
   "source": [
    "some_data_tr=housing_tr.iloc[0:5]\n",
    "some_labels=housing_tr_labels.iloc[:5]"
   ]
  },
  {
   "cell_type": "code",
   "execution_count": 151,
   "id": "4509946e",
   "metadata": {},
   "outputs": [],
   "source": [
    "prepared_data=my_pipeline.transform(some_data_tr)"
   ]
  },
  {
   "cell_type": "code",
   "execution_count": 152,
   "id": "87dbff53",
   "metadata": {},
   "outputs": [
    {
     "data": {
      "text/plain": [
       "array([22.295, 25.333, 16.902, 23.352, 23.505])"
      ]
     },
     "execution_count": 152,
     "metadata": {},
     "output_type": "execute_result"
    }
   ],
   "source": [
    "model.predict(prepared_data)"
   ]
  },
  {
   "cell_type": "code",
   "execution_count": 153,
   "id": "93be2c5c",
   "metadata": {},
   "outputs": [
    {
     "data": {
      "text/plain": [
       "array([-0.42292925, -0.4898311 , -0.57719868, -0.27288841, -0.5573845 ,\n",
       "        0.13494109, -0.52225911,  0.37882487, -0.5429938 , -0.74402708,\n",
       "        0.52982668,  0.45343469, -0.81939807])"
      ]
     },
     "execution_count": 153,
     "metadata": {},
     "output_type": "execute_result"
    }
   ],
   "source": [
    "prepared_data[3]"
   ]
  },
  {
   "cell_type": "code",
   "execution_count": 154,
   "id": "fb523e3a",
   "metadata": {},
   "outputs": [
    {
     "data": {
      "text/plain": [
       "[21.9, 24.5, 16.7, 23.1, 23.0]"
      ]
     },
     "execution_count": 154,
     "metadata": {},
     "output_type": "execute_result"
    }
   ],
   "source": [
    "list(some_labels)  # training set's labels these are ...we havnot yet, look into test set."
   ]
  },
  {
   "cell_type": "code",
   "execution_count": 155,
   "id": "efea01fa",
   "metadata": {},
   "outputs": [],
   "source": [
    "from sklearn.metrics import mean_squared_error\n",
    "housing_predicitons = model.predict(housing_num_tr)\n",
    "lin_mse=mean_squared_error(housing_tr_labels,housing_predicitons)\n",
    "lin_rmse= np.sqrt(lin_mse)"
   ]
  },
  {
   "cell_type": "code",
   "execution_count": 156,
   "id": "d1059ca3",
   "metadata": {},
   "outputs": [
    {
     "data": {
      "text/plain": [
       "1.212296499203143"
      ]
     },
     "execution_count": 156,
     "metadata": {},
     "output_type": "execute_result"
    }
   ],
   "source": [
    "lin_rmse"
   ]
  },
  {
   "cell_type": "markdown",
   "id": "f92422b8",
   "metadata": {},
   "source": [
    "# USE BETTER EVALUATION TECHNIQUE----CROSS VALIDATION."
   ]
  },
  {
   "cell_type": "code",
   "execution_count": 157,
   "id": "c547b3cb",
   "metadata": {},
   "outputs": [],
   "source": [
    "#USING CROSS VALIDATION..\n",
    "\n",
    "from sklearn.model_selection import cross_val_score\n",
    "scores=cross_val_score(model,housing_num_tr, housing_tr_labels,scoring=\"neg_mean_squared_error\",cv=10)\n",
    "rmse_scores=np.sqrt(-scores)"
   ]
  },
  {
   "cell_type": "code",
   "execution_count": 158,
   "id": "1b35dfdb",
   "metadata": {},
   "outputs": [
    {
     "data": {
      "text/plain": [
       "array([2.85568422, 2.77616637, 4.43268523, 2.54679293, 3.57396021,\n",
       "       2.64900323, 4.4151531 , 3.38548502, 3.00380758, 3.21789557])"
      ]
     },
     "execution_count": 158,
     "metadata": {},
     "output_type": "execute_result"
    }
   ],
   "source": [
    "rmse_scores"
   ]
  },
  {
   "cell_type": "code",
   "execution_count": 159,
   "id": "eaf9181c",
   "metadata": {},
   "outputs": [],
   "source": [
    "#                USING CROSS VALIDATION WE GOT THE OUTPUT FOR BOTH THE MODEL\n",
    "#  ERRORS WE ARE GETTING FROM LINEAR REGRESSION:\n",
    "# array([4.21674442, 4.26026816, 5.1071608 , 3.82881892, 5.34093789,4.3785611 , 7.47384779, 5.48226252, 4.14885722, 6.0669122 ])\n",
    "\n",
    "#  ERRORS WE ARE GETTING FROM DECISION TREE MODEL:\n",
    "#array([3.93154844, 5.65724228, 5.45531739, 3.83927076, 3.90134592,2.88911751, 5.01796772, 3.87533869, 3.32061741, 4.37187031])\n",
    "\n",
    "\n",
    "#  ERRORS WE ARE GETTING FROM  RANDOM FOREST MODEL:\n",
    "# array([2.81927693, 2.91132204, 4.41910429, 2.67999518, 3.25681651,2.75332403, 5.07081862, 3.37298847, 3.39443502, 3.18083311])\n"
   ]
  },
  {
   "cell_type": "code",
   "execution_count": 160,
   "id": "87e861c7",
   "metadata": {},
   "outputs": [],
   "source": [
    "# NOTE: OUT OF THESE ALL 3 , RANDOM FOREST GAVE US THE LEAST ERROR VALUE...MEANS THIS IS PROVEN TO BE BEST MODEL."
   ]
  },
  {
   "cell_type": "code",
   "execution_count": 161,
   "id": "b605b5db",
   "metadata": {},
   "outputs": [],
   "source": [
    "# USING THESE SCORES ,WE FIND MEAN, SD, WE CREATE A FUNCTION FOR IT.\n",
    "\n",
    "def print_scores(scores):\n",
    "    print(\"Scores\",scores)\n",
    "    print(\"Mean\",scores.mean())\n",
    "    print(\"Standard Deviation\",scores.std())\n",
    "    "
   ]
  },
  {
   "cell_type": "code",
   "execution_count": 162,
   "id": "139447b8",
   "metadata": {},
   "outputs": [
    {
     "name": "stdout",
     "output_type": "stream",
     "text": [
      "Scores [2.85568422 2.77616637 4.43268523 2.54679293 3.57396021 2.64900323\n",
      " 4.4151531  3.38548502 3.00380758 3.21789557]\n",
      "Mean 3.285663347235675\n",
      "Standard Deviation 0.6453104460666886\n"
     ]
    }
   ],
   "source": [
    "print_scores(rmse_scores)"
   ]
  },
  {
   "cell_type": "code",
   "execution_count": 163,
   "id": "ac3856cb",
   "metadata": {},
   "outputs": [],
   "source": [
    "# OUTPUT FROM DIFFERENT MODELS.\n",
    "# 1.LINEAR REGRESSION:\n",
    "#             Mean :     5.030437102767305\n",
    "#             Standard Deviation :  1.0607661158294834\n",
    "\n",
    "\n",
    "# 2.DECISION TREE MODEL:\n",
    "#             Mean :     4.2220028640157\n",
    "#             Standard Deviation :  0.97368315658327\n",
    "\n",
    "# 3.RANDOM FOREST REGRESSION:\n",
    "#             Mean :     3.3220463932872057\n",
    "#             Standard Deviation:   0.6350413601806926"
   ]
  },
  {
   "cell_type": "code",
   "execution_count": 164,
   "id": "77c9b775",
   "metadata": {},
   "outputs": [],
   "source": [
    "# SO AS SD IS LEAST IN RANDOM FOREST..MEANS ERROR IS LEAST....IMPLES PREDICTION WILL BE GOOD."
   ]
  },
  {
   "cell_type": "markdown",
   "id": "53831c40",
   "metadata": {},
   "source": [
    "# SAVING THE MODEL IN A FILE.."
   ]
  },
  {
   "cell_type": "code",
   "execution_count": 165,
   "id": "1116deba",
   "metadata": {},
   "outputs": [
    {
     "data": {
      "text/plain": [
       "RandomForestRegressor()"
      ]
     },
     "execution_count": 165,
     "metadata": {},
     "output_type": "execute_result"
    }
   ],
   "source": [
    "model"
   ]
  },
  {
   "cell_type": "code",
   "execution_count": 166,
   "id": "a68c7938",
   "metadata": {},
   "outputs": [
    {
     "data": {
      "text/plain": [
       "['Boston.joblib']"
      ]
     },
     "execution_count": 166,
     "metadata": {},
     "output_type": "execute_result"
    }
   ],
   "source": [
    "from joblib import dump,load\n",
    "dump(model, \"Boston.joblib\")"
   ]
  },
  {
   "cell_type": "markdown",
   "id": "1a0969d3",
   "metadata": {},
   "source": [
    "# TESTING THE MODEL ON TEST DATA"
   ]
  },
  {
   "cell_type": "code",
   "execution_count": 167,
   "id": "d088de1c",
   "metadata": {},
   "outputs": [
    {
     "data": {
      "text/html": [
       "<div>\n",
       "<style scoped>\n",
       "    .dataframe tbody tr th:only-of-type {\n",
       "        vertical-align: middle;\n",
       "    }\n",
       "\n",
       "    .dataframe tbody tr th {\n",
       "        vertical-align: top;\n",
       "    }\n",
       "\n",
       "    .dataframe thead th {\n",
       "        text-align: right;\n",
       "    }\n",
       "</style>\n",
       "<table border=\"1\" class=\"dataframe\">\n",
       "  <thead>\n",
       "    <tr style=\"text-align: right;\">\n",
       "      <th></th>\n",
       "      <th>CRIM</th>\n",
       "      <th>ZN</th>\n",
       "      <th>INDUS</th>\n",
       "      <th>CHAS</th>\n",
       "      <th>NOX</th>\n",
       "      <th>RM</th>\n",
       "      <th>AGE</th>\n",
       "      <th>DIS</th>\n",
       "      <th>RAD</th>\n",
       "      <th>TAX</th>\n",
       "      <th>PITRATIO</th>\n",
       "      <th>B</th>\n",
       "      <th>LSTAT</th>\n",
       "      <th>MEDV</th>\n",
       "    </tr>\n",
       "  </thead>\n",
       "  <tbody>\n",
       "    <tr>\n",
       "      <th>342</th>\n",
       "      <td>0.02498</td>\n",
       "      <td>0.0</td>\n",
       "      <td>1.89</td>\n",
       "      <td>0</td>\n",
       "      <td>0.518</td>\n",
       "      <td>6.540</td>\n",
       "      <td>59.7</td>\n",
       "      <td>6.2669</td>\n",
       "      <td>1</td>\n",
       "      <td>422</td>\n",
       "      <td>15.9</td>\n",
       "      <td>389.96</td>\n",
       "      <td>8.65</td>\n",
       "      <td>16.5</td>\n",
       "    </tr>\n",
       "    <tr>\n",
       "      <th>379</th>\n",
       "      <td>17.86670</td>\n",
       "      <td>0.0</td>\n",
       "      <td>18.10</td>\n",
       "      <td>0</td>\n",
       "      <td>0.671</td>\n",
       "      <td>6.223</td>\n",
       "      <td>100.0</td>\n",
       "      <td>1.3861</td>\n",
       "      <td>24</td>\n",
       "      <td>666</td>\n",
       "      <td>20.2</td>\n",
       "      <td>393.74</td>\n",
       "      <td>21.78</td>\n",
       "      <td>10.2</td>\n",
       "    </tr>\n",
       "    <tr>\n",
       "      <th>223</th>\n",
       "      <td>0.61470</td>\n",
       "      <td>0.0</td>\n",
       "      <td>6.20</td>\n",
       "      <td>0</td>\n",
       "      <td>0.507</td>\n",
       "      <td>6.618</td>\n",
       "      <td>80.8</td>\n",
       "      <td>3.2721</td>\n",
       "      <td>8</td>\n",
       "      <td>307</td>\n",
       "      <td>17.4</td>\n",
       "      <td>396.90</td>\n",
       "      <td>7.60</td>\n",
       "      <td>30.1</td>\n",
       "    </tr>\n",
       "    <tr>\n",
       "      <th>219</th>\n",
       "      <td>0.11425</td>\n",
       "      <td>0.0</td>\n",
       "      <td>13.89</td>\n",
       "      <td>1</td>\n",
       "      <td>0.550</td>\n",
       "      <td>6.373</td>\n",
       "      <td>92.4</td>\n",
       "      <td>3.3633</td>\n",
       "      <td>5</td>\n",
       "      <td>276</td>\n",
       "      <td>16.4</td>\n",
       "      <td>393.74</td>\n",
       "      <td>10.50</td>\n",
       "      <td>23.0</td>\n",
       "    </tr>\n",
       "    <tr>\n",
       "      <th>48</th>\n",
       "      <td>0.25387</td>\n",
       "      <td>0.0</td>\n",
       "      <td>6.91</td>\n",
       "      <td>0</td>\n",
       "      <td>0.448</td>\n",
       "      <td>5.399</td>\n",
       "      <td>95.3</td>\n",
       "      <td>5.8700</td>\n",
       "      <td>3</td>\n",
       "      <td>233</td>\n",
       "      <td>17.9</td>\n",
       "      <td>396.90</td>\n",
       "      <td>30.81</td>\n",
       "      <td>14.4</td>\n",
       "    </tr>\n",
       "  </tbody>\n",
       "</table>\n",
       "</div>"
      ],
      "text/plain": [
       "         CRIM   ZN  INDUS  CHAS    NOX     RM    AGE     DIS  RAD  TAX  \\\n",
       "342   0.02498  0.0   1.89     0  0.518  6.540   59.7  6.2669    1  422   \n",
       "379  17.86670  0.0  18.10     0  0.671  6.223  100.0  1.3861   24  666   \n",
       "223   0.61470  0.0   6.20     0  0.507  6.618   80.8  3.2721    8  307   \n",
       "219   0.11425  0.0  13.89     1  0.550  6.373   92.4  3.3633    5  276   \n",
       "48    0.25387  0.0   6.91     0  0.448  5.399   95.3  5.8700    3  233   \n",
       "\n",
       "     PITRATIO       B  LSTAT  MEDV  \n",
       "342      15.9  389.96   8.65  16.5  \n",
       "379      20.2  393.74  21.78  10.2  \n",
       "223      17.4  396.90   7.60  30.1  \n",
       "219      16.4  393.74  10.50  23.0  \n",
       "48       17.9  396.90  30.81  14.4  "
      ]
     },
     "execution_count": 167,
     "metadata": {},
     "output_type": "execute_result"
    }
   ],
   "source": [
    "strat_test1_set.head()"
   ]
  },
  {
   "cell_type": "code",
   "execution_count": 168,
   "id": "83b9268d",
   "metadata": {},
   "outputs": [],
   "source": [
    "# split into feature and label.\n",
    "x_test=strat_test1_set.drop(\"MEDV\",axis=1)\n",
    "y_test=strat_test1_set[\"MEDV\"].copy()"
   ]
  },
  {
   "cell_type": "code",
   "execution_count": null,
   "id": "3b03449a",
   "metadata": {},
   "outputs": [],
   "source": []
  },
  {
   "cell_type": "code",
   "execution_count": 169,
   "id": "f19d0623",
   "metadata": {},
   "outputs": [],
   "source": [
    "x_test_prepared=my_pipeline.transform(x_test)"
   ]
  },
  {
   "cell_type": "code",
   "execution_count": 170,
   "id": "8fc1c378",
   "metadata": {},
   "outputs": [
    {
     "data": {
      "text/plain": [
       "RandomForestRegressor()"
      ]
     },
     "execution_count": 170,
     "metadata": {},
     "output_type": "execute_result"
    }
   ],
   "source": [
    "model    # means random forest regressor is working here."
   ]
  },
  {
   "cell_type": "code",
   "execution_count": 171,
   "id": "08e8559b",
   "metadata": {},
   "outputs": [],
   "source": [
    "final_prediction=model.predict(x_test_prepared)   #model got applied on test data on all featues..\n",
    "                                                  #and value of price got predicted and stored into final_prediction variable."
   ]
  },
  {
   "cell_type": "code",
   "execution_count": 172,
   "id": "c278ef42",
   "metadata": {},
   "outputs": [],
   "source": [
    "# comparision between this predicted and actucal store value in y_test.\n",
    "final_mse=mean_squared_error(final_prediction,y_test)"
   ]
  },
  {
   "cell_type": "code",
   "execution_count": 173,
   "id": "f0075143",
   "metadata": {},
   "outputs": [],
   "source": [
    "final_rmse=np.sqrt(final_mse)"
   ]
  },
  {
   "cell_type": "code",
   "execution_count": 174,
   "id": "5e9421a0",
   "metadata": {},
   "outputs": [
    {
     "data": {
      "text/plain": [
       "2.9977378906075653"
      ]
     },
     "execution_count": 174,
     "metadata": {},
     "output_type": "execute_result"
    }
   ],
   "source": [
    "final_rmse"
   ]
  },
  {
   "cell_type": "code",
   "execution_count": 175,
   "id": "ae319c90",
   "metadata": {},
   "outputs": [
    {
     "name": "stdout",
     "output_type": "stream",
     "text": [
      "final_prediction:\n",
      " [25.443000000000005, 11.710999999999997, 26.084999999999994, 22.153000000000006, 18.486999999999995, 15.006999999999998, 20.107999999999993, 14.408999999999997, 31.832000000000008, 41.172999999999995, 19.563000000000002, 11.665999999999991, 24.342999999999993, 26.768999999999995, 19.55, 11.038999999999994, 31.43799999999999, 14.693999999999996, 23.501999999999995, 18.592, 20.33499999999999, 17.817999999999998, 16.675999999999995, 22.189, 18.442999999999987, 31.136000000000003, 16.831999999999997, 32.57699999999999, 9.291, 32.86699999999999, 23.693999999999992, 20.973999999999993, 22.692999999999984, 11.060999999999993, 20.964999999999986, 11.510999999999997, 43.13300000000003, 24.39900000000001, 23.60099999999998, 42.396000000000015, 23.782999999999998, 30.007999999999985, 20.31800000000001, 21.082000000000004, 18.767999999999986, 33.545999999999985, 43.623000000000026, 20.141999999999996, 19.949999999999992, 21.89599999999998, 21.01899999999999, 14.596000000000004, 21.341000000000005, 15.044999999999986, 25.439, 33.761999999999986, 42.665000000000035, 29.520999999999994, 18.973999999999997, 20.80400000000001, 43.67600000000005, 9.625999999999998, 20.028, 24.264000000000006, 14.855999999999993, 32.696, 19.899999999999995, 18.002000000000002, 18.900999999999996, 34.106000000000016, 26.055999999999997, 22.790999999999972, 21.136999999999997, 22.209, 34.05600000000002, 12.595999999999995, 15.808999999999987, 20.233, 20.623999999999988, 21.302000000000003, 22.114999999999995, 21.035999999999998, 13.244000000000005, 23.15600000000002, 20.857, 21.25300000000001, 14.237999999999998, 20.698, 21.64, 23.210000000000004, 18.430999999999997, 27.14100000000001, 7.118000000000002, 26.819000000000006, 18.729999999999997, 29.119, 19.961999999999993, 31.611999999999966, 14.212, 26.941999999999993, 21.48400000000001, 20.493]\n",
      "\n",
      "----------------------------------------------------------------------------------------------------------\n",
      "Y_test Values Actual 20% MEDV values:\n",
      " [16.5, 10.2, 30.1, 23.0, 14.4, 15.6, 19.4, 14.1, 30.3, 35.2, 23.1, 13.8, 25.0, 27.9, 19.5, 12.3, 32.2, 13.5, 23.8, 21.7, 19.2, 19.5, 10.4, 23.2, 18.6, 28.5, 15.2, 32.0, 7.2, 34.6, 20.1, 20.6, 23.6, 13.1, 23.8, 12.7, 43.1, 24.7, 22.2, 44.0, 28.1, 31.0, 21.7, 23.4, 19.5, 33.1, 41.7, 18.7, 19.9, 20.6, 21.2, 13.6, 20.3, 17.8, 27.1, 31.5, 50.0, 29.1, 18.9, 20.4, 50.0, 7.2, 17.2, 36.2, 14.6, 33.2, 23.8, 19.9, 21.5, 37.3, 27.0, 22.0, 24.3, 19.8, 33.3, 7.0, 19.4, 20.9, 21.1, 20.4, 22.2, 11.9, 11.7, 21.6, 19.7, 23.0, 16.7, 21.7, 20.6, 23.3, 19.6, 28.0, 5.0, 24.4, 20.8, 24.8, 21.8, 23.6, 19.0, 25.0, 20.3, 21.5]\n"
     ]
    }
   ],
   "source": [
    "print(\"final_prediction:\\n\",list(final_prediction))\n",
    "print(\"\\n----------------------------------------------------------------------------------------------------------\")\n",
    "print(\"Y_test Values Actual 20% MEDV values:\\n\",list(y_test))"
   ]
  },
  {
   "cell_type": "code",
   "execution_count": 176,
   "id": "3a75fad1",
   "metadata": {},
   "outputs": [
    {
     "data": {
      "text/plain": [
       "(102,)"
      ]
     },
     "execution_count": 176,
     "metadata": {},
     "output_type": "execute_result"
    }
   ],
   "source": [
    "final_prediction.shape"
   ]
  },
  {
   "cell_type": "code",
   "execution_count": 177,
   "id": "11cec8ae",
   "metadata": {},
   "outputs": [
    {
     "data": {
      "text/plain": [
       "(102,)"
      ]
     },
     "execution_count": 177,
     "metadata": {},
     "output_type": "execute_result"
    }
   ],
   "source": [
    "y_test.shape"
   ]
  },
  {
   "cell_type": "code",
   "execution_count": 178,
   "id": "df73ebba",
   "metadata": {},
   "outputs": [],
   "source": [
    "# compare the correspong values....of final_prediction and y_test for insights."
   ]
  },
  {
   "cell_type": "code",
   "execution_count": 179,
   "id": "5ab9b2e1",
   "metadata": {},
   "outputs": [],
   "source": [
    "# WE HAVE SAVED THE MODEL IN FILE...['Boston.joblib']..\n",
    "# AND IN NEW JUPYTER NOTEBOOK NAME MODEL USAGE....AND DO FURTHER PROCESS IN IT."
   ]
  },
  {
   "cell_type": "markdown",
   "id": "3ffac4e7",
   "metadata": {},
   "source": [
    "# ---------------------------------------------------------------------------------------------------------------"
   ]
  },
  {
   "cell_type": "code",
   "execution_count": 180,
   "id": "4ef0e603",
   "metadata": {},
   "outputs": [],
   "source": [
    "#NOTE: SO IN BOTH THE CASES....WHEN WE ARE GIVEN WITH PROPER FILLED DATASET .....AND WHEN WE ARE GIVEN WITH DATASET HAVING \n",
    "#      NULL VALUES ,IN BOTH THE CASES WE ARE GETTING....ALMOST FAIR PRICE PREDICITON..ACCORDING TO THE FEATURES...\n",
    "        \n",
    "      # CHECK THE RESULT OF PREDICTION OF PRICE (MEDV) IN PYTHON FILE...NAMED..\n",
    "      # 1.FOR ORIGINAL BOSTON SET:  NOTEBOOK IS : Original_Boston.joblib\n",
    "      # 2.FOR DATASET HAVING NULL VALUES : NOTEBOOK IS : Boston.joblib"
   ]
  },
  {
   "cell_type": "markdown",
   "id": "6b5c11ae",
   "metadata": {},
   "source": [
    "# ---------------------------------------------------------------------------------------------------------------"
   ]
  },
  {
   "cell_type": "code",
   "execution_count": null,
   "id": "6b78f0d8",
   "metadata": {},
   "outputs": [],
   "source": []
  }
 ],
 "metadata": {
  "kernelspec": {
   "display_name": "Python 3",
   "language": "python",
   "name": "python3"
  },
  "language_info": {
   "codemirror_mode": {
    "name": "ipython",
    "version": 3
   },
   "file_extension": ".py",
   "mimetype": "text/x-python",
   "name": "python",
   "nbconvert_exporter": "python",
   "pygments_lexer": "ipython3",
   "version": "3.8.8"
  }
 },
 "nbformat": 4,
 "nbformat_minor": 5
}
