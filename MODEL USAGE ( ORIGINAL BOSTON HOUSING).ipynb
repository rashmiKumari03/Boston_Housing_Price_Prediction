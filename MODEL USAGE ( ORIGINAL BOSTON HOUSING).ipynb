{
 "cells": [
  {
   "cell_type": "code",
   "execution_count": 1,
   "id": "2d8ef120",
   "metadata": {},
   "outputs": [],
   "source": [
    "import numpy as np\n",
    "from joblib import load\n",
    "model=load('Original_Boston.joblib')"
   ]
  },
  {
   "cell_type": "code",
   "execution_count": 2,
   "id": "ba4f4492",
   "metadata": {},
   "outputs": [],
   "source": [
    "# Lets try with actucal values of features.....actucal data...lets cross check\n",
    "#CRIM,    ZN , INDUS , CHAS , NOX,   RM,     AGE,    DIS,      RAD,   TAX,   PITRATIO,   B,      LSTAT    MEDV\n",
    "#0.01501, 80.0 ,2.01,  0,     0.435, 6.635,  29.7,  8.3440,     4,    280,    17.0,    390.94   ,5.99,    24.5\n",
    "#4.87141, 0.0, 18.10  ,0,     0.614, 6.484,  93.6,  2.3053,     24,   666,    20.2,    396.21,   18.68,   16.7"
   ]
  },
  {
   "cell_type": "code",
   "execution_count": 3,
   "id": "94631302",
   "metadata": {},
   "outputs": [],
   "source": [
    "features=np.array([0.01501, 80.0 ,2.01, 0, 0.435, 6.635,  29.7,  8.3440, 4,280,17.0,390.94 ,5.99])"
   ]
  },
  {
   "cell_type": "code",
   "execution_count": 4,
   "id": "311dcb5c",
   "metadata": {},
   "outputs": [
    {
     "data": {
      "text/plain": [
       "array([25.391])"
      ]
     },
     "execution_count": 4,
     "metadata": {},
     "output_type": "execute_result"
    }
   ],
   "source": [
    "model.predict([features])   # wonderful, prediction of price."
   ]
  },
  {
   "cell_type": "code",
   "execution_count": 5,
   "id": "dbff3f85",
   "metadata": {},
   "outputs": [],
   "source": [
    "features=np.array([4.87141, 0.0, 18.10,0, 0.614, 6.484,93.6,2.3053,24,666,20.2,396.21,18.68])"
   ]
  },
  {
   "cell_type": "code",
   "execution_count": 6,
   "id": "8ef25b90",
   "metadata": {},
   "outputs": [
    {
     "data": {
      "text/plain": [
       "array([16.59])"
      ]
     },
     "execution_count": 6,
     "metadata": {},
     "output_type": "execute_result"
    }
   ],
   "source": [
    "model.predict([features])"
   ]
  },
  {
   "cell_type": "code",
   "execution_count": null,
   "id": "8e046560",
   "metadata": {},
   "outputs": [],
   "source": []
  }
 ],
 "metadata": {
  "kernelspec": {
   "display_name": "Python 3",
   "language": "python",
   "name": "python3"
  },
  "language_info": {
   "codemirror_mode": {
    "name": "ipython",
    "version": 3
   },
   "file_extension": ".py",
   "mimetype": "text/x-python",
   "name": "python",
   "nbconvert_exporter": "python",
   "pygments_lexer": "ipython3",
   "version": "3.8.8"
  }
 },
 "nbformat": 4,
 "nbformat_minor": 5
}
