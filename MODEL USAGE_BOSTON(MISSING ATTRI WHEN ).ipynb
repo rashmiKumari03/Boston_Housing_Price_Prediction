{
 "cells": [
  {
   "cell_type": "code",
   "execution_count": 1,
   "id": "8598eae4",
   "metadata": {},
   "outputs": [],
   "source": [
    "import numpy as np\n",
    "from joblib import load\n",
    "model=load('Boston.joblib')"
   ]
  },
  {
   "cell_type": "code",
   "execution_count": 2,
   "id": "9db99f71",
   "metadata": {},
   "outputs": [],
   "source": [
    "# now how to use the model....from original notebook..use prepared_data[0]...and copy from there and paste here..\n",
    "#prepared_data[0]=array([-0.43942006,  3.12628155, -1.12165014, -0.27288841, -1.42262747,\n",
    "#       -0.24141041, -1.31238772,  2.61111401, -1.0016859 , -0.5778192 ,\n",
    "#       -0.97491834,  0.41164221, -0.86091034])"
   ]
  },
  {
   "cell_type": "code",
   "execution_count": 3,
   "id": "431ae5bb",
   "metadata": {},
   "outputs": [],
   "source": [
    "features=np.array([-0.43942006,  3.12628155, -1.12165014, -0.27288841, -1.42262747,\n",
    "       -0.24141041, -1.31238772,  2.61111401, -1.0016859 , -0.5778192 ,\n",
    "       -0.97491834,  0.41164221, -0.86091034])"
   ]
  },
  {
   "cell_type": "code",
   "execution_count": 4,
   "id": "6197926f",
   "metadata": {},
   "outputs": [
    {
     "data": {
      "text/plain": [
       "array([22.218])"
      ]
     },
     "execution_count": 4,
     "metadata": {},
     "output_type": "execute_result"
    }
   ],
   "source": [
    "model.predict([features])   #this predicted the price."
   ]
  },
  {
   "cell_type": "code",
   "execution_count": 5,
   "id": "c55d970b",
   "metadata": {},
   "outputs": [],
   "source": [
    "features=np.array([-0.42292925, -0.4898311 , -0.57719868, -0.27288841, -0.5573845 ,\n",
    "        5.3494109, -0.52225911,  0.37882487, -0.5429938 , -0.74402708,\n",
    "        0.52982668,  0.45343469, -0.81939807])\n",
    "       "
   ]
  },
  {
   "cell_type": "code",
   "execution_count": 6,
   "id": "8fc0e080",
   "metadata": {},
   "outputs": [
    {
     "data": {
      "text/plain": [
       "array([38.793])"
      ]
     },
     "execution_count": 6,
     "metadata": {},
     "output_type": "execute_result"
    }
   ],
   "source": [
    "model.predict([features])  #RM = 5.3494109 this was important feature...as we have change it ..there is a huge change in price."
   ]
  },
  {
   "cell_type": "markdown",
   "id": "b58c912e",
   "metadata": {},
   "source": [
    "# LETS TRY BY GIVING ACTUAL VALUES OF FEATURES TO THE MODEL FOR PREDICTION....."
   ]
  },
  {
   "cell_type": "code",
   "execution_count": 7,
   "id": "39703616",
   "metadata": {},
   "outputs": [],
   "source": [
    "# Lets try with actucal values of features.....actucal data...lets cross check\n",
    "#CRIM,    ZN , INDUS , CHAS , NOX,   RM,     AGE,    DIS,      RAD,   TAX,   PITRATIO,   B,      LSTAT    MEDV\n",
    "#0.01501, 80.0 ,2.01,  0,     0.435, 6.635,  29.7,  8.3440,     4,    280,    17.0,    390.94   ,5.99,    24.5\n",
    "#4.87141, 0.0, 18.10  ,0,     0.614, 6.484,  93.6,  2.3053,     24,   666,    20.2,    396.21,   18.68,   16.7"
   ]
  },
  {
   "cell_type": "code",
   "execution_count": 8,
   "id": "fe130fa1",
   "metadata": {},
   "outputs": [],
   "source": [
    "features=np.array([0.01501, 80.0 ,2.01, 0, 0.435, 6.635,  29.7,  8.3440, 4,280,17.0,390.94 ,5.99])"
   ]
  },
  {
   "cell_type": "code",
   "execution_count": 9,
   "id": "42c2f6fd",
   "metadata": {},
   "outputs": [
    {
     "data": {
      "text/plain": [
       "array([24.08])"
      ]
     },
     "execution_count": 9,
     "metadata": {},
     "output_type": "execute_result"
    }
   ],
   "source": [
    "model.predict([features])   # wonderful, prediction of price."
   ]
  },
  {
   "cell_type": "code",
   "execution_count": 10,
   "id": "f2f504db",
   "metadata": {},
   "outputs": [],
   "source": [
    "features=np.array([4.87141, 0.0, 18.10,0, 0.614, 6.484,93.6,2.3053,24,666,20.2,396.21,18.68])"
   ]
  },
  {
   "cell_type": "code",
   "execution_count": 11,
   "id": "f1058513",
   "metadata": {},
   "outputs": [
    {
     "data": {
      "text/plain": [
       "array([24.217])"
      ]
     },
     "execution_count": 11,
     "metadata": {},
     "output_type": "execute_result"
    }
   ],
   "source": [
    "model.predict([features])   # 16.7-----> predicted price 24.217....bit diff...but no issue as we were dealing with very small\n",
    "                            # dataset."
   ]
  },
  {
   "cell_type": "code",
   "execution_count": 12,
   "id": "a3e45f57",
   "metadata": {},
   "outputs": [],
   "source": [
    "#-----------------------------------------------------------------------------------------------------------------------------#"
   ]
  }
 ],
 "metadata": {
  "kernelspec": {
   "display_name": "Python 3",
   "language": "python",
   "name": "python3"
  },
  "language_info": {
   "codemirror_mode": {
    "name": "ipython",
    "version": 3
   },
   "file_extension": ".py",
   "mimetype": "text/x-python",
   "name": "python",
   "nbconvert_exporter": "python",
   "pygments_lexer": "ipython3",
   "version": "3.8.8"
  }
 },
 "nbformat": 4,
 "nbformat_minor": 5
}
